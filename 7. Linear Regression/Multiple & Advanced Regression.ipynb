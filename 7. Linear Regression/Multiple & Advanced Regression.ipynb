{
 "cells": [
  {
   "cell_type": "markdown",
   "id": "d1d1a186",
   "metadata": {
    "tags": []
   },
   "source": [
    "# Multiple & Advanced Regression\n",
    "Demonstrating MLR, Collinearity, Dummy variables, Logistic regression using the  [House prices dataset (Kaggle)](https://www.kaggle.com/c/house-prices-advanced-regression-techniques/data) <br> \n",
    "\n"
   ]
  },
  {
   "cell_type": "markdown",
   "id": "035eae5f",
   "metadata": {
    "tags": []
   },
   "source": [
    "### 0. Imports"
   ]
  },
  {
   "cell_type": "code",
   "execution_count": 230,
   "id": "b430855d",
   "metadata": {},
   "outputs": [],
   "source": [
    "#data processing\n",
    "import pandas as pd\n",
    "import numpy as np\n",
    "import scipy as sp\n",
    "\n",
    "#statistics\n",
    "from scipy import stats\n",
    "import statsmodels.api as sm\n",
    "\n",
    "\n",
    "#data visualizations\n",
    "import seaborn as sns\n",
    "import matplotlib.pyplot as plt\n",
    "%matplotlib inline\n",
    "\n",
    "\n",
    "#Machine learning library\n",
    "import sklearn\n",
    "\n",
    "#Patterns Mining\n",
    "from efficient_apriori import apriori\n",
    "\n",
    "import warnings\n",
    "warnings.filterwarnings(\"ignore\")\n"
   ]
  },
  {
   "cell_type": "markdown",
   "id": "f60cf081",
   "metadata": {},
   "source": [
    "##### Loading the CSV dataset"
   ]
  },
  {
   "cell_type": "code",
   "execution_count": 231,
   "id": "4033fdd7",
   "metadata": {},
   "outputs": [],
   "source": [
    "dataset_path = \"../datasets/houseprices/train.csv\"\n",
    "dtf = pd.read_csv(dataset_path,index_col='Id')"
   ]
  },
  {
   "cell_type": "markdown",
   "id": "523c7408",
   "metadata": {},
   "source": [
    "##### Defining numeric and categorical columns"
   ]
  },
  {
   "cell_type": "code",
   "execution_count": 232,
   "id": "ece1219e",
   "metadata": {},
   "outputs": [],
   "source": [
    "numeric_columns = dtf.dtypes[(dtf.dtypes==\"float64\") | (dtf.dtypes==\"int64\")].index.tolist()\n",
    "very_numerical = [nc for nc in numeric_columns if dtf[nc].nunique()>20]\n",
    "categorical_columns = [c for c in dtf.columns if c not in numeric_columns]\n",
    "ordinals = list(set(numeric_columns) - set(very_numerical))"
   ]
  },
  {
   "cell_type": "markdown",
   "id": "871be96d",
   "metadata": {},
   "source": [
    "##### Filling Null Values with the column's mean"
   ]
  },
  {
   "cell_type": "code",
   "execution_count": 233,
   "id": "cfb20653",
   "metadata": {},
   "outputs": [],
   "source": [
    "na_columns = dtf[very_numerical].isna().sum()\n",
    "na_columns = na_columns[na_columns>0]\n",
    "for nc in na_columns.index:\n",
    "    dtf[nc].fillna(dtf[nc].mean(),inplace=True)"
   ]
  },
  {
   "cell_type": "markdown",
   "id": "66c7b717-2808-4d18-b33a-e9808a6d99c6",
   "metadata": {},
   "source": [
    "##### Dropping and filling NA values for categorical columns:"
   ]
  },
  {
   "cell_type": "markdown",
   "id": "b0dc2943-32f3-4022-b384-9945bcc2b840",
   "metadata": {},
   "source": [
    "1. drop if at least 70% are NA:"
   ]
  },
  {
   "cell_type": "code",
   "execution_count": 234,
   "id": "268e001e",
   "metadata": {},
   "outputs": [],
   "source": [
    "nul_cols = dtf[categorical_columns].isna().sum()/len(dtf)\n",
    "drop_us = nul_cols[nul_cols>0.7]"
   ]
  },
  {
   "cell_type": "code",
   "execution_count": 235,
   "id": "f35b8c99-a869-4fbb-969b-63167289c76a",
   "metadata": {},
   "outputs": [],
   "source": [
    "dtf=dtf.drop(drop_us.index,axis=1)\n",
    "categorical_columns = list(set(categorical_columns)-set(drop_us.index))"
   ]
  },
  {
   "cell_type": "markdown",
   "id": "54c0312d-60a1-4942-95ec-35d5e4b7f600",
   "metadata": {},
   "source": [
    "2. Fill with a new 'na' category:"
   ]
  },
  {
   "cell_type": "code",
   "execution_count": 236,
   "id": "20b67de3-9994-4676-a5d0-6c6eec12a097",
   "metadata": {},
   "outputs": [],
   "source": [
    "dtf[categorical_columns]= dtf[categorical_columns].fillna('na')"
   ]
  },
  {
   "cell_type": "markdown",
   "id": "d5189328-3651-4229-9d72-71cfb5d1dc0b",
   "metadata": {},
   "source": [
    "### 1. Multiple Lienar Regression"
   ]
  },
  {
   "cell_type": "code",
   "execution_count": 297,
   "id": "e20a795a-59ad-461a-b371-9d4c3f54c83e",
   "metadata": {},
   "outputs": [],
   "source": [
    "Ycol = 'SalePrice'"
   ]
  },
  {
   "cell_type": "markdown",
   "id": "5ef8300e-3f32-4200-83eb-f0bcc97f7c1b",
   "metadata": {},
   "source": [
    "#### 1.1 Using SK-Learn Regression"
   ]
  },
  {
   "cell_type": "code",
   "execution_count": 298,
   "id": "e65520c5-cfd3-4fc3-a1a6-d9c5a5557b7d",
   "metadata": {},
   "outputs": [],
   "source": [
    "from sklearn.linear_model import LinearRegression"
   ]
  },
  {
   "cell_type": "code",
   "execution_count": 310,
   "id": "26f6fae6-7369-4b0a-819b-229efa097058",
   "metadata": {},
   "outputs": [],
   "source": [
    "Y= dtf[Ycol]\n",
    "X = dtf[very_numerical].drop(Ycol,axis=1)"
   ]
  },
  {
   "cell_type": "code",
   "execution_count": 311,
   "id": "bc43ab6d-6f57-4d57-ae05-8fa5d486bbe9",
   "metadata": {},
   "outputs": [],
   "source": [
    "sk_ols_model = LinearRegression()"
   ]
  },
  {
   "cell_type": "code",
   "execution_count": 312,
   "id": "844c3c4a-7ff3-48e7-956d-7151cb67712d",
   "metadata": {},
   "outputs": [],
   "source": [
    "Y_pred = sk_ols_model.fit(X,Y).predict(X)"
   ]
  },
  {
   "cell_type": "markdown",
   "id": "1d27084e-a39f-4843-85b2-2fb67880af50",
   "metadata": {},
   "source": [
    "Evaluting the model performance using r square"
   ]
  },
  {
   "cell_type": "code",
   "execution_count": 313,
   "id": "b1edc7d6-50e4-4e0b-813d-dcfb39986742",
   "metadata": {},
   "outputs": [
    {
     "data": {
      "text/plain": [
       "0.7473572434339235"
      ]
     },
     "execution_count": 313,
     "metadata": {},
     "output_type": "execute_result"
    }
   ],
   "source": [
    "r2_score(Y,Y_pred)"
   ]
  },
  {
   "cell_type": "markdown",
   "id": "9b376cae-9d11-4547-a073-ddf8f231d172",
   "metadata": {},
   "source": [
    "Plotting the residuals:"
   ]
  },
  {
   "cell_type": "code",
   "execution_count": 314,
   "id": "445198c5-81cc-44ee-ab63-c9062c6a5f66",
   "metadata": {},
   "outputs": [
    {
     "data": {
      "text/plain": [
       "Text(0.5, 0, 'SalePrice')"
      ]
     },
     "execution_count": 314,
     "metadata": {},
     "output_type": "execute_result"
    },
    {
     "data": {
      "image/png": "[encoded data removed]",
      "text/plain": [
       "<Figure size 576x360 with 1 Axes>"
      ]
     },
     "metadata": {
      "needs_background": "light"
     },
     "output_type": "display_data"
    }
   ],
   "source": [
    "fig, ax = plt.subplots(figsize=(8,5))\n",
    "sns.scatterplot(Y_pred,Y,ax=ax)\n",
    "sns.lineplot(Y_pred,Y_pred,ax=ax,color='black')\n",
    "ax.set_xlabel(\"SalePrice\")"
   ]
  },
  {
   "cell_type": "markdown",
   "id": "c71dc3b0-8027-48f9-8eaf-6293d3d8ade9",
   "metadata": {},
   "source": [
    "#### 1.2 Using StatsModels for a deeper understanding of the regression"
   ]
  },
  {
   "cell_type": "code",
   "execution_count": 315,
   "id": "61c06092-cbbf-4d30-ad9e-c5335f425487",
   "metadata": {},
   "outputs": [],
   "source": [
    "sm_model = sm.OLS(Y, X)"
   ]
  },
  {
   "cell_type": "code",
   "execution_count": 316,
   "id": "ffc21892-9a89-49bc-862c-f845697f4e61",
   "metadata": {},
   "outputs": [],
   "source": [
    "results = sm_model.fit()"
   ]
  },
  {
   "cell_type": "code",
   "execution_count": 317,
   "id": "a79340af-2a0c-46aa-b6ca-2c8c110ad511",
   "metadata": {
    "tags": []
   },
   "outputs": [],
   "source": [
    "Y_pred2 = results.fittedvalues"
   ]
  },
  {
   "cell_type": "code",
   "execution_count": 318,
   "id": "e06ad70e-fb0e-4473-a784-63fcdf82f19a",
   "metadata": {},
   "outputs": [
    {
     "data": {
      "text/plain": [
       "Text(0.5, 0, 'SalePrice')"
      ]
     },
     "execution_count": 318,
     "metadata": {},
     "output_type": "execute_result"
    },
    {
     "data": {
      "image/png": "[encoded data removed]",
      "text/plain": [
       "<Figure size 576x360 with 1 Axes>"
      ]
     },
     "metadata": {
      "needs_background": "light"
     },
     "output_type": "display_data"
    }
   ],
   "source": [
    "fig, ax = plt.subplots(figsize=(8,5))\n",
    "sns.scatterplot(Y_pred2,Y,ax=ax)\n",
    "sns.lineplot(Y_pred2,Y_pred2,ax=ax,color='red')\n",
    "#sns.lineplot(Y_pred,Y_pred,ax=ax,color='black')\n",
    "ax.set_xlabel(\"SalePrice\")"
   ]
  },
  {
   "cell_type": "code",
   "execution_count": 248,
   "id": "f6d6b2c7-25a7-4638-a252-29a9f41d4971",
   "metadata": {},
   "outputs": [
    {
     "data": {
      "text/html": [
       "<table class=\"simpletable\">\n",
       "<caption>OLS Regression Results</caption>\n",
       "<tr>\n",
       "  <th>Dep. Variable:</th>        <td>SalePrice</td>    <th>  R-squared (uncentered):</th>      <td>   0.952</td> \n",
       "</tr>\n",
       "<tr>\n",
       "  <th>Model:</th>                   <td>OLS</td>       <th>  Adj. R-squared (uncentered):</th> <td>   0.951</td> \n",
       "</tr>\n",
       "<tr>\n",
       "  <th>Method:</th>             <td>Least Squares</td>  <th>  F-statistic:       </th>          <td>   1578.</td> \n",
       "</tr>\n",
       "<tr>\n",
       "  <th>Date:</th>             <td>Tue, 04 Jan 2022</td> <th>  Prob (F-statistic):</th>           <td>  0.00</td>  \n",
       "</tr>\n",
       "<tr>\n",
       "  <th>Time:</th>                 <td>09:11:16</td>     <th>  Log-Likelihood:    </th>          <td> -17663.</td> \n",
       "</tr>\n",
       "<tr>\n",
       "  <th>No. Observations:</th>      <td>  1460</td>      <th>  AIC:               </th>          <td>3.536e+04</td>\n",
       "</tr>\n",
       "<tr>\n",
       "  <th>Df Residuals:</th>          <td>  1442</td>      <th>  BIC:               </th>          <td>3.546e+04</td>\n",
       "</tr>\n",
       "<tr>\n",
       "  <th>Df Model:</th>              <td>    18</td>      <th>                     </th>              <td> </td>    \n",
       "</tr>\n",
       "<tr>\n",
       "  <th>Covariance Type:</th>      <td>nonrobust</td>    <th>                     </th>              <td> </td>    \n",
       "</tr>\n",
       "</table>\n",
       "<table class=\"simpletable\">\n",
       "<tr>\n",
       "        <td></td>           <th>coef</th>     <th>std err</th>      <th>t</th>      <th>P>|t|</th>  <th>[0.025</th>    <th>0.975]</th>  \n",
       "</tr>\n",
       "<tr>\n",
       "  <th>LotFrontage</th>   <td>  -96.5454</td> <td>   59.862</td> <td>   -1.613</td> <td> 0.107</td> <td> -213.971</td> <td>   20.880</td>\n",
       "</tr>\n",
       "<tr>\n",
       "  <th>LotArea</th>       <td>    0.1979</td> <td>    0.126</td> <td>    1.576</td> <td> 0.115</td> <td>   -0.048</td> <td>    0.444</td>\n",
       "</tr>\n",
       "<tr>\n",
       "  <th>YearBuilt</th>     <td>  392.4697</td> <td>   70.217</td> <td>    5.589</td> <td> 0.000</td> <td>  254.732</td> <td>  530.208</td>\n",
       "</tr>\n",
       "<tr>\n",
       "  <th>YearRemodAdd</th>  <td>   27.4364</td> <td>   63.396</td> <td>    0.433</td> <td> 0.665</td> <td>  -96.922</td> <td>  151.794</td>\n",
       "</tr>\n",
       "<tr>\n",
       "  <th>MasVnrArea</th>    <td>   42.9661</td> <td>    7.377</td> <td>    5.824</td> <td> 0.000</td> <td>   28.495</td> <td>   57.438</td>\n",
       "</tr>\n",
       "<tr>\n",
       "  <th>BsmtFinSF1</th>    <td>   19.8621</td> <td>    2.806</td> <td>    7.079</td> <td> 0.000</td> <td>   14.358</td> <td>   25.366</td>\n",
       "</tr>\n",
       "<tr>\n",
       "  <th>BsmtFinSF2</th>    <td>   -2.2235</td> <td>    5.547</td> <td>   -0.401</td> <td> 0.689</td> <td>  -13.104</td> <td>    8.657</td>\n",
       "</tr>\n",
       "<tr>\n",
       "  <th>BsmtUnfSF</th>     <td>    9.9816</td> <td>    2.610</td> <td>    3.824</td> <td> 0.000</td> <td>    4.862</td> <td>   15.101</td>\n",
       "</tr>\n",
       "<tr>\n",
       "  <th>TotalBsmtSF</th>   <td>   27.6202</td> <td>    3.945</td> <td>    7.002</td> <td> 0.000</td> <td>   19.882</td> <td>   35.358</td>\n",
       "</tr>\n",
       "<tr>\n",
       "  <th>1stFlrSF</th>      <td>   21.6851</td> <td>    7.405</td> <td>    2.928</td> <td> 0.003</td> <td>    7.158</td> <td>   36.212</td>\n",
       "</tr>\n",
       "<tr>\n",
       "  <th>2ndFlrSF</th>      <td>   27.6089</td> <td>    6.702</td> <td>    4.119</td> <td> 0.000</td> <td>   14.462</td> <td>   40.756</td>\n",
       "</tr>\n",
       "<tr>\n",
       "  <th>LowQualFinSF</th>  <td>  -11.5819</td> <td>   18.566</td> <td>   -0.624</td> <td> 0.533</td> <td>  -48.002</td> <td>   24.838</td>\n",
       "</tr>\n",
       "<tr>\n",
       "  <th>GrLivArea</th>     <td>   37.7120</td> <td>    6.303</td> <td>    5.983</td> <td> 0.000</td> <td>   25.348</td> <td>   50.076</td>\n",
       "</tr>\n",
       "<tr>\n",
       "  <th>GarageYrBlt</th>   <td> -419.5700</td> <td>   79.645</td> <td>   -5.268</td> <td> 0.000</td> <td> -575.803</td> <td> -263.337</td>\n",
       "</tr>\n",
       "<tr>\n",
       "  <th>GarageArea</th>    <td>   85.7568</td> <td>    6.894</td> <td>   12.439</td> <td> 0.000</td> <td>   72.234</td> <td>   99.280</td>\n",
       "</tr>\n",
       "<tr>\n",
       "  <th>WoodDeckSF</th>    <td>   53.2726</td> <td>    9.849</td> <td>    5.409</td> <td> 0.000</td> <td>   33.953</td> <td>   72.592</td>\n",
       "</tr>\n",
       "<tr>\n",
       "  <th>OpenPorchSF</th>   <td>   50.8511</td> <td>   18.688</td> <td>    2.721</td> <td> 0.007</td> <td>   14.192</td> <td>   87.510</td>\n",
       "</tr>\n",
       "<tr>\n",
       "  <th>EnclosedPorch</th> <td>  -35.3024</td> <td>   20.197</td> <td>   -1.748</td> <td> 0.081</td> <td>  -74.921</td> <td>    4.316</td>\n",
       "</tr>\n",
       "<tr>\n",
       "  <th>ScreenPorch</th>   <td>   46.7655</td> <td>   21.076</td> <td>    2.219</td> <td> 0.027</td> <td>    5.423</td> <td>   88.108</td>\n",
       "</tr>\n",
       "<tr>\n",
       "  <th>MiscVal</th>       <td>   -1.0751</td> <td>    2.313</td> <td>   -0.465</td> <td> 0.642</td> <td>   -5.613</td> <td>    3.463</td>\n",
       "</tr>\n",
       "</table>\n",
       "<table class=\"simpletable\">\n",
       "<tr>\n",
       "  <th>Omnibus:</th>       <td>807.027</td> <th>  Durbin-Watson:     </th> <td>   1.963</td> \n",
       "</tr>\n",
       "<tr>\n",
       "  <th>Prob(Omnibus):</th> <td> 0.000</td>  <th>  Jarque-Bera (JB):  </th> <td>90952.252</td>\n",
       "</tr>\n",
       "<tr>\n",
       "  <th>Skew:</th>          <td>-1.606</td>  <th>  Prob(JB):          </th> <td>    0.00</td> \n",
       "</tr>\n",
       "<tr>\n",
       "  <th>Kurtosis:</th>      <td>41.533</td>  <th>  Cond. No.          </th> <td>9.72e+16</td> \n",
       "</tr>\n",
       "</table><br/><br/>Notes:<br/>[1] R² is computed without centering (uncentered) since the model does not contain a constant.<br/>[2] Standard Errors assume that the covariance matrix of the errors is correctly specified.<br/>[3] The smallest eigenvalue is 3.41e-23. This might indicate that there are<br/>strong multicollinearity problems or that the design matrix is singular."
      ],
      "text/plain": [
       "<class 'statsmodels.iolib.summary.Summary'>\n",
       "\"\"\"\n",
       "                                 OLS Regression Results                                \n",
       "=======================================================================================\n",
       "Dep. Variable:              SalePrice   R-squared (uncentered):                   0.952\n",
       "Model:                            OLS   Adj. R-squared (uncentered):              0.951\n",
       "Method:                 Least Squares   F-statistic:                              1578.\n",
       "Date:                Tue, 04 Jan 2022   Prob (F-statistic):                        0.00\n",
       "Time:                        09:11:16   Log-Likelihood:                         -17663.\n",
       "No. Observations:                1460   AIC:                                  3.536e+04\n",
       "Df Residuals:                    1442   BIC:                                  3.546e+04\n",
       "Df Model:                          18                                                  \n",
       "Covariance Type:            nonrobust                                                  \n",
       "=================================================================================\n",
       "                    coef    std err          t      P>|t|      [0.025      0.975]\n",
       "---------------------------------------------------------------------------------\n",
       "LotFrontage     -96.5454     59.862     -1.613      0.107    -213.971      20.880\n",
       "LotArea           0.1979      0.126      1.576      0.115      -0.048       0.444\n",
       "YearBuilt       392.4697     70.217      5.589      0.000     254.732     530.208\n",
       "YearRemodAdd     27.4364     63.396      0.433      0.665     -96.922     151.794\n",
       "MasVnrArea       42.9661      7.377      5.824      0.000      28.495      57.438\n",
       "BsmtFinSF1       19.8621      2.806      7.079      0.000      14.358      25.366\n",
       "BsmtFinSF2       -2.2235      5.547     -0.401      0.689     -13.104       8.657\n",
       "BsmtUnfSF         9.9816      2.610      3.824      0.000       4.862      15.101\n",
       "TotalBsmtSF      27.6202      3.945      7.002      0.000      19.882      35.358\n",
       "1stFlrSF         21.6851      7.405      2.928      0.003       7.158      36.212\n",
       "2ndFlrSF         27.6089      6.702      4.119      0.000      14.462      40.756\n",
       "LowQualFinSF    -11.5819     18.566     -0.624      0.533     -48.002      24.838\n",
       "GrLivArea        37.7120      6.303      5.983      0.000      25.348      50.076\n",
       "GarageYrBlt    -419.5700     79.645     -5.268      0.000    -575.803    -263.337\n",
       "GarageArea       85.7568      6.894     12.439      0.000      72.234      99.280\n",
       "WoodDeckSF       53.2726      9.849      5.409      0.000      33.953      72.592\n",
       "OpenPorchSF      50.8511     18.688      2.721      0.007      14.192      87.510\n",
       "EnclosedPorch   -35.3024     20.197     -1.748      0.081     -74.921       4.316\n",
       "ScreenPorch      46.7655     21.076      2.219      0.027       5.423      88.108\n",
       "MiscVal          -1.0751      2.313     -0.465      0.642      -5.613       3.463\n",
       "==============================================================================\n",
       "Omnibus:                      807.027   Durbin-Watson:                   1.963\n",
       "Prob(Omnibus):                  0.000   Jarque-Bera (JB):            90952.252\n",
       "Skew:                          -1.606   Prob(JB):                         0.00\n",
       "Kurtosis:                      41.533   Cond. No.                     9.72e+16\n",
       "==============================================================================\n",
       "\n",
       "Notes:\n",
       "[1] R² is computed without centering (uncentered) since the model does not contain a constant.\n",
       "[2] Standard Errors assume that the covariance matrix of the errors is correctly specified.\n",
       "[3] The smallest eigenvalue is 3.41e-23. This might indicate that there are\n",
       "strong multicollinearity problems or that the design matrix is singular.\n",
       "\"\"\""
      ]
     },
     "execution_count": 248,
     "metadata": {},
     "output_type": "execute_result"
    }
   ],
   "source": [
    "results.summary()"
   ]
  },
  {
   "cell_type": "markdown",
   "id": "f881467f-ad2a-44fa-9571-4da07e36ee87",
   "metadata": {},
   "source": [
    "### 2. Collinearity"
   ]
  },
  {
   "cell_type": "markdown",
   "id": "ab6ef0aa-ca5d-40b9-b222-ed38abe72810",
   "metadata": {},
   "source": [
    "#### 2.1 Searching for correlated X columns"
   ]
  },
  {
   "cell_type": "code",
   "execution_count": 249,
   "id": "c62600e4-a22d-44f7-aca8-02275bccd1fa",
   "metadata": {},
   "outputs": [],
   "source": [
    "X_corr = X.corr()"
   ]
  },
  {
   "cell_type": "code",
   "execution_count": 250,
   "id": "5b9663ea-0c37-4747-902a-f28b1e3049d5",
   "metadata": {},
   "outputs": [
    {
     "data": {
      "text/plain": [
       "<AxesSubplot:>"
      ]
     },
     "execution_count": 250,
     "metadata": {},
     "output_type": "execute_result"
    },
    {
     "data": {
      "image/png": "[encoded data removed]",
      "text/plain": [
       "<Figure size 432x288 with 2 Axes>"
      ]
     },
     "metadata": {
      "needs_background": "light"
     },
     "output_type": "display_data"
    }
   ],
   "source": [
    "sns.heatmap(X_corr, annot=False, fmt='.2f', cmap=\"YlGnBu\", cbar=True, linewidths=0.5)"
   ]
  },
  {
   "cell_type": "markdown",
   "id": "3452c3df-67ab-4db5-ae8e-442df3bed598",
   "metadata": {},
   "source": [
    "Heatmaps are nice, but we need the actual correlated columns"
   ]
  },
  {
   "cell_type": "code",
   "execution_count": 251,
   "id": "25115ffa-afc3-43ae-b82b-0b559a1b2e2c",
   "metadata": {},
   "outputs": [],
   "source": [
    "high_corr = X_corr[X_corr>0.8]"
   ]
  },
  {
   "cell_type": "code",
   "execution_count": 252,
   "id": "dc189ee4-a8c4-4c10-9cfd-e4920a66fa78",
   "metadata": {},
   "outputs": [
    {
     "data": {
      "text/plain": [
       "LotFrontage    LotFrontage      1.00000\n",
       "LotArea        LotArea          1.00000\n",
       "YearBuilt      YearBuilt        1.00000\n",
       "YearRemodAdd   YearRemodAdd     1.00000\n",
       "MasVnrArea     MasVnrArea       1.00000\n",
       "BsmtFinSF1     BsmtFinSF1       1.00000\n",
       "BsmtFinSF2     BsmtFinSF2       1.00000\n",
       "BsmtUnfSF      BsmtUnfSF        1.00000\n",
       "TotalBsmtSF    TotalBsmtSF      1.00000\n",
       "               1stFlrSF         0.81953\n",
       "1stFlrSF       TotalBsmtSF      0.81953\n",
       "               1stFlrSF         1.00000\n",
       "2ndFlrSF       2ndFlrSF         1.00000\n",
       "LowQualFinSF   LowQualFinSF     1.00000\n",
       "GrLivArea      GrLivArea        1.00000\n",
       "GarageYrBlt    GarageYrBlt      1.00000\n",
       "GarageArea     GarageArea       1.00000\n",
       "WoodDeckSF     WoodDeckSF       1.00000\n",
       "OpenPorchSF    OpenPorchSF      1.00000\n",
       "EnclosedPorch  EnclosedPorch    1.00000\n",
       "ScreenPorch    ScreenPorch      1.00000\n",
       "MiscVal        MiscVal          1.00000\n",
       "dtype: float64"
      ]
     },
     "execution_count": 252,
     "metadata": {},
     "output_type": "execute_result"
    }
   ],
   "source": [
    "high_corr.stack()"
   ]
  },
  {
   "cell_type": "code",
   "execution_count": 253,
   "id": "375105ed-3775-4e5a-b84e-136d41a02e27",
   "metadata": {},
   "outputs": [
    {
     "data": {
      "text/html": [
       "<div>\n",
       "<style scoped>\n",
       "    .dataframe tbody tr th:only-of-type {\n",
       "        vertical-align: middle;\n",
       "    }\n",
       "\n",
       "    .dataframe tbody tr th {\n",
       "        vertical-align: top;\n",
       "    }\n",
       "\n",
       "    .dataframe thead th {\n",
       "        text-align: right;\n",
       "    }\n",
       "</style>\n",
       "<table border=\"1\" class=\"dataframe\">\n",
       "  <thead>\n",
       "    <tr style=\"text-align: right;\">\n",
       "      <th></th>\n",
       "      <th>col1</th>\n",
       "      <th>col2</th>\n",
       "      <th>corr</th>\n",
       "    </tr>\n",
       "  </thead>\n",
       "  <tbody>\n",
       "    <tr>\n",
       "      <th>9</th>\n",
       "      <td>TotalBsmtSF</td>\n",
       "      <td>1stFlrSF</td>\n",
       "      <td>0.81953</td>\n",
       "    </tr>\n",
       "    <tr>\n",
       "      <th>10</th>\n",
       "      <td>1stFlrSF</td>\n",
       "      <td>TotalBsmtSF</td>\n",
       "      <td>0.81953</td>\n",
       "    </tr>\n",
       "  </tbody>\n",
       "</table>\n",
       "</div>"
      ],
      "text/plain": [
       "           col1         col2     corr\n",
       "9   TotalBsmtSF     1stFlrSF  0.81953\n",
       "10     1stFlrSF  TotalBsmtSF  0.81953"
      ]
     },
     "execution_count": 253,
     "metadata": {},
     "output_type": "execute_result"
    }
   ],
   "source": [
    "hc = high_corr.stack().reset_index()\n",
    "hc.columns=[\"col1\",\"col2\",\"corr\"]\n",
    "hc[hc.col1!=hc.col2]"
   ]
  },
  {
   "cell_type": "markdown",
   "id": "60feec6e-f545-4238-b6e8-e5bffbc96970",
   "metadata": {},
   "source": [
    "0.8 is not so high, we can recheck the signifiance of the correlated columns' coefficients"
   ]
  },
  {
   "cell_type": "markdown",
   "id": "8e4ce2b0-f661-47cc-a825-0a26044528d8",
   "metadata": {},
   "source": [
    "#### 2.2 Calculating Variance Inflation Factors"
   ]
  },
  {
   "cell_type": "code",
   "execution_count": 254,
   "id": "698f4e2f-c8b6-4da1-bc98-fb4c4ee40431",
   "metadata": {},
   "outputs": [],
   "source": [
    "from statsmodels.stats.outliers_influence import variance_inflation_factor"
   ]
  },
  {
   "cell_type": "code",
   "execution_count": 255,
   "id": "bcba8c3e-6470-4f69-a7ec-171c9e678043",
   "metadata": {},
   "outputs": [
    {
     "data": {
      "text/plain": [
       "(1460, 20)"
      ]
     },
     "execution_count": 255,
     "metadata": {},
     "output_type": "execute_result"
    }
   ],
   "source": [
    "X.shape"
   ]
  },
  {
   "cell_type": "code",
   "execution_count": 256,
   "id": "7a383f0d-415e-429b-aa81-b9e0ea1118eb",
   "metadata": {},
   "outputs": [],
   "source": [
    "vif_dict = {}\n",
    "for i, name in enumerate(X.columns):\n",
    "    v = variance_inflation_factor(X.values,i)\n",
    "    vif_dict[name]=v.round()\n",
    "vifs = pd.Series(vif_dict)    "
   ]
  },
  {
   "cell_type": "code",
   "execution_count": 257,
   "id": "5ec36e61-b758-4398-9ad4-eb162a45498a",
   "metadata": {},
   "outputs": [
    {
     "data": {
      "text/plain": [
       "2ndFlrSF             inf\n",
       "LowQualFinSF         inf\n",
       "BsmtFinSF1           inf\n",
       "BsmtFinSF2           inf\n",
       "BsmtUnfSF            inf\n",
       "TotalBsmtSF          inf\n",
       "1stFlrSF             inf\n",
       "GrLivArea            inf\n",
       "GarageYrBlt      18982.0\n",
       "YearBuilt        14647.0\n",
       "YearRemodAdd     12103.0\n",
       "LotFrontage         15.0\n",
       "GarageArea          10.0\n",
       "LotArea              3.0\n",
       "MasVnrArea           2.0\n",
       "WoodDeckSF           2.0\n",
       "OpenPorchSF          2.0\n",
       "EnclosedPorch        1.0\n",
       "ScreenPorch          1.0\n",
       "MiscVal              1.0\n",
       "dtype: float64"
      ]
     },
     "execution_count": 257,
     "metadata": {},
     "output_type": "execute_result"
    }
   ],
   "source": [
    "vifs.sort_values(ascending=False)"
   ]
  },
  {
   "cell_type": "code",
   "execution_count": null,
   "id": "2b380906-9d9c-4a7a-bd75-a12cfdd81ee1",
   "metadata": {},
   "outputs": [],
   "source": []
  },
  {
   "cell_type": "markdown",
   "id": "605975b3-981c-4972-8228-aeeab38b3cc6",
   "metadata": {},
   "source": [
    "#### 2.3 Investigating Collinearity:"
   ]
  },
  {
   "cell_type": "code",
   "execution_count": 258,
   "id": "7be928ea-00dc-4577-997e-2a4dae761f45",
   "metadata": {},
   "outputs": [],
   "source": [
    "vif_col = '2ndFlrSF'"
   ]
  },
  {
   "cell_type": "code",
   "execution_count": 259,
   "id": "97906086-a6e6-4a62-8ab8-5576fd251a8d",
   "metadata": {},
   "outputs": [],
   "source": [
    "z = dtf[vif_col]"
   ]
  },
  {
   "cell_type": "code",
   "execution_count": 260,
   "id": "182bbe48-0b8e-4e78-bb2d-add66454d7b5",
   "metadata": {},
   "outputs": [],
   "source": [
    "Xv = X.drop(vif_col,axis=1)"
   ]
  },
  {
   "cell_type": "markdown",
   "id": "64be9e6c-7bcb-4925-8611-f7e5fc4e70c2",
   "metadata": {},
   "source": [
    "We train a regression model on `vif_col` and examine the non zero coefficients"
   ]
  },
  {
   "cell_type": "code",
   "execution_count": 261,
   "id": "10e1e459-b448-448e-877a-586724deea5b",
   "metadata": {},
   "outputs": [],
   "source": [
    "modelv = sm.OLS(z, Xv)\n",
    "results = modelv.fit()"
   ]
  },
  {
   "cell_type": "code",
   "execution_count": 262,
   "id": "4c64a11a-3cb5-4a06-9d8a-2b202a38b874",
   "metadata": {},
   "outputs": [
    {
     "data": {
      "text/plain": [
       "1stFlrSF       -1.0\n",
       "LowQualFinSF   -1.0\n",
       "GrLivArea       1.0\n",
       "dtype: float64"
      ]
     },
     "execution_count": 262,
     "metadata": {},
     "output_type": "execute_result"
    }
   ],
   "source": [
    "r= results.params.round()\n",
    "r = r[r.abs()>0]\n",
    "r"
   ]
  },
  {
   "cell_type": "code",
   "execution_count": 263,
   "id": "5082af87-86df-426f-a238-6fd103d083c0",
   "metadata": {},
   "outputs": [
    {
     "data": {
      "text/html": [
       "<div>\n",
       "<style scoped>\n",
       "    .dataframe tbody tr th:only-of-type {\n",
       "        vertical-align: middle;\n",
       "    }\n",
       "\n",
       "    .dataframe tbody tr th {\n",
       "        vertical-align: top;\n",
       "    }\n",
       "\n",
       "    .dataframe thead th {\n",
       "        text-align: right;\n",
       "    }\n",
       "</style>\n",
       "<table border=\"1\" class=\"dataframe\">\n",
       "  <thead>\n",
       "    <tr style=\"text-align: right;\">\n",
       "      <th></th>\n",
       "      <th>1stFlrSF</th>\n",
       "      <th>LowQualFinSF</th>\n",
       "      <th>GrLivArea</th>\n",
       "      <th>2ndFlrSF</th>\n",
       "    </tr>\n",
       "    <tr>\n",
       "      <th>Id</th>\n",
       "      <th></th>\n",
       "      <th></th>\n",
       "      <th></th>\n",
       "      <th></th>\n",
       "    </tr>\n",
       "  </thead>\n",
       "  <tbody>\n",
       "    <tr>\n",
       "      <th>1</th>\n",
       "      <td>856</td>\n",
       "      <td>0</td>\n",
       "      <td>1710</td>\n",
       "      <td>854</td>\n",
       "    </tr>\n",
       "    <tr>\n",
       "      <th>2</th>\n",
       "      <td>1262</td>\n",
       "      <td>0</td>\n",
       "      <td>1262</td>\n",
       "      <td>0</td>\n",
       "    </tr>\n",
       "    <tr>\n",
       "      <th>3</th>\n",
       "      <td>920</td>\n",
       "      <td>0</td>\n",
       "      <td>1786</td>\n",
       "      <td>866</td>\n",
       "    </tr>\n",
       "    <tr>\n",
       "      <th>4</th>\n",
       "      <td>961</td>\n",
       "      <td>0</td>\n",
       "      <td>1717</td>\n",
       "      <td>756</td>\n",
       "    </tr>\n",
       "    <tr>\n",
       "      <th>5</th>\n",
       "      <td>1145</td>\n",
       "      <td>0</td>\n",
       "      <td>2198</td>\n",
       "      <td>1053</td>\n",
       "    </tr>\n",
       "  </tbody>\n",
       "</table>\n",
       "</div>"
      ],
      "text/plain": [
       "    1stFlrSF  LowQualFinSF  GrLivArea  2ndFlrSF\n",
       "Id                                             \n",
       "1        856             0       1710       854\n",
       "2       1262             0       1262         0\n",
       "3        920             0       1786       866\n",
       "4        961             0       1717       756\n",
       "5       1145             0       2198      1053"
      ]
     },
     "execution_count": 263,
     "metadata": {},
     "output_type": "execute_result"
    }
   ],
   "source": [
    "dtf[r.index.tolist()+[vif_col]].head()"
   ]
  },
  {
   "cell_type": "markdown",
   "id": "8bdc1e0c-9594-4eb4-8aa7-37af711e1bc3",
   "metadata": {},
   "source": [
    "### 3. Nonlinear Regression"
   ]
  },
  {
   "cell_type": "markdown",
   "id": "0cf70c43-13a3-4c3b-93cb-bbca2333745d",
   "metadata": {},
   "source": [
    "Recall that some of our features are skewed,\n",
    "we can use the Box-Cox transformation on the raw features, then apply the regression on the transformed features"
   ]
  },
  {
   "cell_type": "code",
   "execution_count": 343,
   "id": "093f8125-95a2-496a-9742-088b3e5a470a",
   "metadata": {},
   "outputs": [
    {
     "data": {
      "text/plain": [
       "1.8828757597682129"
      ]
     },
     "execution_count": 343,
     "metadata": {},
     "output_type": "execute_result"
    }
   ],
   "source": [
    "Y.skew()"
   ]
  },
  {
   "cell_type": "code",
   "execution_count": 354,
   "id": "9dda6b3e-0eeb-4058-a41e-235bf6e8fc4e",
   "metadata": {},
   "outputs": [],
   "source": [
    "bc = sp.stats.boxcox"
   ]
  },
  {
   "cell_type": "code",
   "execution_count": 355,
   "id": "9ee66dbd-c2eb-4ba1-9696-470ee7212817",
   "metadata": {},
   "outputs": [],
   "source": [
    "bcY, _ = bc(Y)"
   ]
  },
  {
   "cell_type": "code",
   "execution_count": 356,
   "id": "b446a3b2-8a36-4500-b7c5-a508ce1d06aa",
   "metadata": {},
   "outputs": [
    {
     "data": {
      "text/plain": [
       "<AxesSubplot:>"
      ]
     },
     "execution_count": 356,
     "metadata": {},
     "output_type": "execute_result"
    },
    {
     "data": {
      "image/png": "[encoded data removed]",
      "text/plain": [
       "<Figure size 432x216 with 2 Axes>"
      ]
     },
     "metadata": {
      "needs_background": "light"
     },
     "output_type": "display_data"
    }
   ],
   "source": [
    "fig, axes = plt.subplots(1,2,figsize=(6,3))\n",
    "Y.hist(ax=axes[0])\n",
    "pd.Series(bcY).hist(ax=axes[1])"
   ]
  },
  {
   "cell_type": "markdown",
   "id": "a3c62958-335d-4b7d-a308-cfb272dbba79",
   "metadata": {},
   "source": [
    "Let's see if our model is better when Y is transformed:"
   ]
  },
  {
   "cell_type": "code",
   "execution_count": 357,
   "id": "77ade191-978b-47cf-a689-a167eba40075",
   "metadata": {},
   "outputs": [],
   "source": [
    "bcY_pred = sk_ols_model.fit(X,bcY).predict(X)"
   ]
  },
  {
   "cell_type": "markdown",
   "id": "1a4757dd-af12-4118-8eb5-70d235c89f71",
   "metadata": {},
   "source": [
    "Evaluting the model performance using r square"
   ]
  },
  {
   "cell_type": "code",
   "execution_count": 358,
   "id": "704e0813-c096-4d23-a08e-f903b8c717b9",
   "metadata": {},
   "outputs": [
    {
     "data": {
      "text/plain": [
       "0.7883095729808727"
      ]
     },
     "execution_count": 358,
     "metadata": {},
     "output_type": "execute_result"
    }
   ],
   "source": [
    "r2_score(bcY,bcY_pred)"
   ]
  },
  {
   "cell_type": "markdown",
   "id": "0603a600-8af8-476f-957c-385f9f62664c",
   "metadata": {},
   "source": [
    "Plotting the residuals:"
   ]
  },
  {
   "cell_type": "code",
   "execution_count": 359,
   "id": "d433103e-b9ab-4272-85be-1ea7f16cd666",
   "metadata": {},
   "outputs": [
    {
     "data": {
      "text/plain": [
       "Text(0.5, 1.0, 'BoxCox Y')"
      ]
     },
     "execution_count": 359,
     "metadata": {},
     "output_type": "execute_result"
    },
    {
     "data": {
      "image/png": "[encoded data removed]",
      "text/plain": [
       "<Figure size 864x288 with 2 Axes>"
      ]
     },
     "metadata": {
      "needs_background": "light"
     },
     "output_type": "display_data"
    }
   ],
   "source": [
    "fig, axes = plt.subplots(1,2,figsize=(12,4))\n",
    "sns.scatterplot(Y_pred,Y,ax=axes[0])\n",
    "sns.lineplot(Y_pred,Y_pred,ax=axes[0],color='black')\n",
    "axes[0].set_xlabel(\"SalePrice\")\n",
    "axes[0].set_title(\"raw Y\")\n",
    "\n",
    "sns.scatterplot(bcY_pred,bcY,ax=axes[1])\n",
    "sns.lineplot(bcY_pred,bcY_pred,ax=axes[1],color='red')\n",
    "axes[1].set_xlabel(\"SalePrice\")\n",
    "axes[1].set_title(\"BoxCox Y\")"
   ]
  },
  {
   "cell_type": "code",
   "execution_count": null,
   "id": "361c7626-92f8-48ab-81b1-2d98be6f54fc",
   "metadata": {},
   "outputs": [],
   "source": []
  },
  {
   "cell_type": "code",
   "execution_count": null,
   "id": "f450cc60-a9b9-4b8e-aaa7-ec39823192b2",
   "metadata": {},
   "outputs": [],
   "source": []
  },
  {
   "cell_type": "code",
   "execution_count": null,
   "id": "8ea13d2d-371b-482e-965a-51b990bd1f5f",
   "metadata": {},
   "outputs": [],
   "source": []
  },
  {
   "cell_type": "code",
   "execution_count": null,
   "id": "f1094a9e-dd75-4a4f-b0ab-1e0e815bc9a9",
   "metadata": {},
   "outputs": [],
   "source": []
  },
  {
   "cell_type": "code",
   "execution_count": null,
   "id": "192cfcad-8b8b-495f-bbcb-51760cf8eff6",
   "metadata": {},
   "outputs": [],
   "source": []
  },
  {
   "cell_type": "code",
   "execution_count": null,
   "id": "68ce5dc2-f45f-44ff-8cef-c0f889ad7807",
   "metadata": {},
   "outputs": [],
   "source": []
  },
  {
   "cell_type": "code",
   "execution_count": null,
   "id": "fb1d95f3-d3d2-4aad-a5c7-9b41b0723f33",
   "metadata": {},
   "outputs": [],
   "source": []
  },
  {
   "cell_type": "code",
   "execution_count": null,
   "id": "1f956235-2224-4c7e-a019-cbcc66d03c34",
   "metadata": {},
   "outputs": [],
   "source": []
  },
  {
   "cell_type": "code",
   "execution_count": null,
   "id": "6ba0ce3a-1beb-4d20-9cbd-58e1989771fc",
   "metadata": {},
   "outputs": [],
   "source": []
  },
  {
   "cell_type": "code",
   "execution_count": null,
   "id": "94f937b7-5362-49f8-8521-88f0ef09bcb8",
   "metadata": {},
   "outputs": [],
   "source": []
  },
  {
   "cell_type": "code",
   "execution_count": null,
   "id": "2025ed1f-30cf-414f-affb-aebc91573b84",
   "metadata": {},
   "outputs": [],
   "source": []
  },
  {
   "cell_type": "code",
   "execution_count": null,
   "id": "d5fb0f0b-2756-4633-a671-0e736f3555e4",
   "metadata": {},
   "outputs": [],
   "source": []
  },
  {
   "cell_type": "code",
   "execution_count": null,
   "id": "ec2e5230-51fb-436f-8169-e6d6092b5055",
   "metadata": {},
   "outputs": [],
   "source": []
  },
  {
   "cell_type": "code",
   "execution_count": null,
   "id": "d29c89d1-1fa7-4044-accf-12226c693b19",
   "metadata": {},
   "outputs": [],
   "source": []
  },
  {
   "cell_type": "code",
   "execution_count": null,
   "id": "d50b2c74-8437-43cb-8169-9e56af5ce945",
   "metadata": {},
   "outputs": [],
   "source": []
  },
  {
   "cell_type": "code",
   "execution_count": null,
   "id": "fb46ac49-7fdf-49e8-95ac-d5e561281945",
   "metadata": {},
   "outputs": [],
   "source": []
  },
  {
   "cell_type": "markdown",
   "id": "758fa993-ffaf-4fab-baec-9bd7201ad9b9",
   "metadata": {},
   "source": [
    "Let's transform all skewed feautres:"
   ]
  },
  {
   "cell_type": "code",
   "execution_count": 360,
   "id": "9dd06e43-833d-40f8-8bca-6809bed9947e",
   "metadata": {},
   "outputs": [],
   "source": [
    "X2=pd.DataFrame(index=dtf.index)"
   ]
  },
  {
   "cell_type": "code",
   "execution_count": 361,
   "id": "347c6e7d-145f-42b9-8ca5-e66b6652bdf1",
   "metadata": {},
   "outputs": [],
   "source": [
    "for n in very_numerical:\n",
    "    if dtf[n].skew() > 1:\n",
    "        #boxcox only works for positive data:\n",
    "        col = dtf[n].copy()\n",
    "        if col.min()<=0:\n",
    "            #this is *not* the best method to deal with the issue\n",
    "            col=col+col.min()+0.00000001\n",
    "        bc_n, _ = bc(col)\n",
    "        X2[n] = bc_n\n",
    "    else:\n",
    "        X2[n] = col\n",
    "        "
   ]
  },
  {
   "cell_type": "code",
   "execution_count": 365,
   "id": "3da8954b-4321-4ce1-a613-98aa0bad3fca",
   "metadata": {},
   "outputs": [],
   "source": [
    "bcY = X2[Ycol]"
   ]
  },
  {
   "cell_type": "code",
   "execution_count": 366,
   "id": "722c539a-6b84-458b-8808-637d9e22766e",
   "metadata": {},
   "outputs": [],
   "source": [
    "X2.drop(Ycol,axis=1,inplace=True)"
   ]
  },
  {
   "cell_type": "code",
   "execution_count": 367,
   "id": "296c3e2c-75d4-4d11-882a-24ec72c93cfe",
   "metadata": {},
   "outputs": [],
   "source": [
    "Y_pred3 = sk_ols_model.fit(X2,bcY).predict(X2)"
   ]
  },
  {
   "cell_type": "markdown",
   "id": "cd378281-daaa-4f6e-9572-a960b5dc0017",
   "metadata": {},
   "source": [
    "Evaluting the model performance using r square"
   ]
  },
  {
   "cell_type": "code",
   "execution_count": 369,
   "id": "e391fe6b-421c-4ee9-b2e0-c5d19b46a4fa",
   "metadata": {},
   "outputs": [
    {
     "data": {
      "text/plain": [
       "0.5818556052663854"
      ]
     },
     "execution_count": 369,
     "metadata": {},
     "output_type": "execute_result"
    }
   ],
   "source": [
    "r2_score(bcY,Y_pred3)"
   ]
  },
  {
   "cell_type": "markdown",
   "id": "be38d110-28c2-46f0-9d69-01b3d78d1db0",
   "metadata": {},
   "source": [
    "Plotting the residuals:"
   ]
  },
  {
   "cell_type": "code",
   "execution_count": 370,
   "id": "3252bdc2-4203-44ba-9fa7-6d6205162c7e",
   "metadata": {},
   "outputs": [
    {
     "data": {
      "text/plain": [
       "Text(0.5, 0, 'SalePrice')"
      ]
     },
     "execution_count": 370,
     "metadata": {},
     "output_type": "execute_result"
    },
    {
     "data": {
      "image/png": "[encoded data removed]",
      "text/plain": [
       "<Figure size 576x360 with 1 Axes>"
      ]
     },
     "metadata": {
      "needs_background": "light"
     },
     "output_type": "display_data"
    }
   ],
   "source": [
    "fig, ax = plt.subplots(figsize=(8,5))\n",
    "sns.scatterplot(Y_pred3,bcY,ax=ax)\n",
    "sns.lineplot(Y_pred3,Y_pred3,ax=ax,color='black')\n",
    "sns.lineplot(bcY_pred,bcY_pred,ax=ax,color='red')\n",
    "ax.set_xlabel(\"SalePrice\")"
   ]
  },
  {
   "cell_type": "code",
   "execution_count": null,
   "id": "e5ed13f2-a682-4f5f-b07b-cd8897798bce",
   "metadata": {},
   "outputs": [],
   "source": []
  }
 ],
 "metadata": {
  "kernelspec": {
   "display_name": "dsworkshop",
   "language": "python",
   "name": "dsworkshop"
  },
  "language_info": {
   "codemirror_mode": {
    "name": "ipython",
    "version": 3
   },
   "file_extension": ".py",
   "mimetype": "text/x-python",
   "name": "python",
   "nbconvert_exporter": "python",
   "pygments_lexer": "ipython3",
   "version": "3.7.6"
  }
 },
 "nbformat": 4,
 "nbformat_minor": 5
}
