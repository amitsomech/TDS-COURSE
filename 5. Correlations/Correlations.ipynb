{
 "cells": [
  {
   "cell_type": "markdown",
   "id": "d1d1a186",
   "metadata": {
    "tags": []
   },
   "source": [
    "# Statistical Correlations\n",
    "We examine independence teseting, two-sample KS and Correaltions using the  [House prices dataset (Kaggle)](https://www.kaggle.com/c/house-prices-advanced-regression-techniques/data) <br> \n",
    "\n"
   ]
  },
  {
   "cell_type": "markdown",
   "id": "035eae5f",
   "metadata": {
    "tags": []
   },
   "source": [
    "### 0. Imports"
   ]
  },
  {
   "cell_type": "code",
   "execution_count": 271,
   "id": "b430855d",
   "metadata": {},
   "outputs": [],
   "source": [
    "#data processing\n",
    "import pandas as pd\n",
    "import numpy as np\n",
    "import scipy as sp\n",
    "\n",
    "#statistics\n",
    "from scipy import stats\n",
    "import statsmodels.api as sm\n",
    "\n",
    "\n",
    "#data visualizations\n",
    "import seaborn as sns\n",
    "import matplotlib.pyplot as plt\n",
    "%matplotlib inline\n",
    "\n",
    "\n",
    "#Machine learning library\n",
    "import sklearn\n",
    "\n",
    "import warnings\n",
    "warnings.filterwarnings(\"ignore\")\n"
   ]
  },
  {
   "cell_type": "markdown",
   "id": "f60cf081",
   "metadata": {},
   "source": [
    "##### Loading the CSV dataset"
   ]
  },
  {
   "cell_type": "code",
   "execution_count": 272,
   "id": "4033fdd7",
   "metadata": {},
   "outputs": [],
   "source": [
    "dataset_path = \"../datasets/houseprices/train.csv\"\n",
    "dtf = pd.read_csv(dataset_path,index_col='Id')"
   ]
  },
  {
   "cell_type": "code",
   "execution_count": 273,
   "id": "4f8f30a6",
   "metadata": {},
   "outputs": [
    {
     "data": {
      "text/html": [
       "<div>\n",
       "<style scoped>\n",
       "    .dataframe tbody tr th:only-of-type {\n",
       "        vertical-align: middle;\n",
       "    }\n",
       "\n",
       "    .dataframe tbody tr th {\n",
       "        vertical-align: top;\n",
       "    }\n",
       "\n",
       "    .dataframe thead th {\n",
       "        text-align: right;\n",
       "    }\n",
       "</style>\n",
       "<table border=\"1\" class=\"dataframe\">\n",
       "  <thead>\n",
       "    <tr style=\"text-align: right;\">\n",
       "      <th></th>\n",
       "      <th>MSSubClass</th>\n",
       "      <th>MSZoning</th>\n",
       "      <th>LotFrontage</th>\n",
       "      <th>LotArea</th>\n",
       "      <th>Street</th>\n",
       "      <th>Alley</th>\n",
       "      <th>LotShape</th>\n",
       "      <th>LandContour</th>\n",
       "      <th>Utilities</th>\n",
       "      <th>LotConfig</th>\n",
       "      <th>...</th>\n",
       "      <th>PoolArea</th>\n",
       "      <th>PoolQC</th>\n",
       "      <th>Fence</th>\n",
       "      <th>MiscFeature</th>\n",
       "      <th>MiscVal</th>\n",
       "      <th>MoSold</th>\n",
       "      <th>YrSold</th>\n",
       "      <th>SaleType</th>\n",
       "      <th>SaleCondition</th>\n",
       "      <th>SalePrice</th>\n",
       "    </tr>\n",
       "    <tr>\n",
       "      <th>Id</th>\n",
       "      <th></th>\n",
       "      <th></th>\n",
       "      <th></th>\n",
       "      <th></th>\n",
       "      <th></th>\n",
       "      <th></th>\n",
       "      <th></th>\n",
       "      <th></th>\n",
       "      <th></th>\n",
       "      <th></th>\n",
       "      <th></th>\n",
       "      <th></th>\n",
       "      <th></th>\n",
       "      <th></th>\n",
       "      <th></th>\n",
       "      <th></th>\n",
       "      <th></th>\n",
       "      <th></th>\n",
       "      <th></th>\n",
       "      <th></th>\n",
       "      <th></th>\n",
       "    </tr>\n",
       "  </thead>\n",
       "  <tbody>\n",
       "    <tr>\n",
       "      <th>1</th>\n",
       "      <td>60</td>\n",
       "      <td>RL</td>\n",
       "      <td>65.0</td>\n",
       "      <td>8450</td>\n",
       "      <td>Pave</td>\n",
       "      <td>NaN</td>\n",
       "      <td>Reg</td>\n",
       "      <td>Lvl</td>\n",
       "      <td>AllPub</td>\n",
       "      <td>Inside</td>\n",
       "      <td>...</td>\n",
       "      <td>0</td>\n",
       "      <td>NaN</td>\n",
       "      <td>NaN</td>\n",
       "      <td>NaN</td>\n",
       "      <td>0</td>\n",
       "      <td>2</td>\n",
       "      <td>2008</td>\n",
       "      <td>WD</td>\n",
       "      <td>Normal</td>\n",
       "      <td>208500</td>\n",
       "    </tr>\n",
       "    <tr>\n",
       "      <th>2</th>\n",
       "      <td>20</td>\n",
       "      <td>RL</td>\n",
       "      <td>80.0</td>\n",
       "      <td>9600</td>\n",
       "      <td>Pave</td>\n",
       "      <td>NaN</td>\n",
       "      <td>Reg</td>\n",
       "      <td>Lvl</td>\n",
       "      <td>AllPub</td>\n",
       "      <td>FR2</td>\n",
       "      <td>...</td>\n",
       "      <td>0</td>\n",
       "      <td>NaN</td>\n",
       "      <td>NaN</td>\n",
       "      <td>NaN</td>\n",
       "      <td>0</td>\n",
       "      <td>5</td>\n",
       "      <td>2007</td>\n",
       "      <td>WD</td>\n",
       "      <td>Normal</td>\n",
       "      <td>181500</td>\n",
       "    </tr>\n",
       "    <tr>\n",
       "      <th>3</th>\n",
       "      <td>60</td>\n",
       "      <td>RL</td>\n",
       "      <td>68.0</td>\n",
       "      <td>11250</td>\n",
       "      <td>Pave</td>\n",
       "      <td>NaN</td>\n",
       "      <td>IR1</td>\n",
       "      <td>Lvl</td>\n",
       "      <td>AllPub</td>\n",
       "      <td>Inside</td>\n",
       "      <td>...</td>\n",
       "      <td>0</td>\n",
       "      <td>NaN</td>\n",
       "      <td>NaN</td>\n",
       "      <td>NaN</td>\n",
       "      <td>0</td>\n",
       "      <td>9</td>\n",
       "      <td>2008</td>\n",
       "      <td>WD</td>\n",
       "      <td>Normal</td>\n",
       "      <td>223500</td>\n",
       "    </tr>\n",
       "  </tbody>\n",
       "</table>\n",
       "<p>3 rows × 80 columns</p>\n",
       "</div>"
      ],
      "text/plain": [
       "    MSSubClass MSZoning  LotFrontage  LotArea Street Alley LotShape  \\\n",
       "Id                                                                    \n",
       "1           60       RL         65.0     8450   Pave   NaN      Reg   \n",
       "2           20       RL         80.0     9600   Pave   NaN      Reg   \n",
       "3           60       RL         68.0    11250   Pave   NaN      IR1   \n",
       "\n",
       "   LandContour Utilities LotConfig  ... PoolArea PoolQC Fence MiscFeature  \\\n",
       "Id                                  ...                                     \n",
       "1          Lvl    AllPub    Inside  ...        0    NaN   NaN         NaN   \n",
       "2          Lvl    AllPub       FR2  ...        0    NaN   NaN         NaN   \n",
       "3          Lvl    AllPub    Inside  ...        0    NaN   NaN         NaN   \n",
       "\n",
       "   MiscVal MoSold  YrSold  SaleType  SaleCondition  SalePrice  \n",
       "Id                                                             \n",
       "1        0      2    2008        WD         Normal     208500  \n",
       "2        0      5    2007        WD         Normal     181500  \n",
       "3        0      9    2008        WD         Normal     223500  \n",
       "\n",
       "[3 rows x 80 columns]"
      ]
     },
     "execution_count": 273,
     "metadata": {},
     "output_type": "execute_result"
    }
   ],
   "source": [
    "dtf.head(3)"
   ]
  },
  {
   "cell_type": "markdown",
   "id": "523c7408",
   "metadata": {},
   "source": [
    "##### Defining numeric and categorical columns"
   ]
  },
  {
   "cell_type": "code",
   "execution_count": 274,
   "id": "ece1219e",
   "metadata": {},
   "outputs": [],
   "source": [
    "numeric_columns = dtf.dtypes[(dtf.dtypes==\"float64\") | (dtf.dtypes==\"int64\")].index.tolist()\n",
    "very_numerical = [nc for nc in numeric_columns if dtf[nc].nunique()>20]\n",
    "categorical_columns = [c for c in dtf.columns if c not in numeric_columns]"
   ]
  },
  {
   "cell_type": "markdown",
   "id": "871be96d",
   "metadata": {},
   "source": [
    "##### Filling Null Values with the column's mean"
   ]
  },
  {
   "cell_type": "code",
   "execution_count": 275,
   "id": "cfb20653",
   "metadata": {},
   "outputs": [],
   "source": [
    "na_columns = dtf[very_numerical].isna().sum()\n",
    "na_columns = na_columns[na_columns>0]\n",
    "for nc in na_columns.index:\n",
    "    dtf[nc].fillna(dtf[nc].mean(),inplace=True)"
   ]
  },
  {
   "cell_type": "markdown",
   "id": "66c7b717-2808-4d18-b33a-e9808a6d99c6",
   "metadata": {},
   "source": [
    "##### Dropping and filling NA values for categorical columns:"
   ]
  },
  {
   "cell_type": "markdown",
   "id": "b0dc2943-32f3-4022-b384-9945bcc2b840",
   "metadata": {},
   "source": [
    "1. drop if at least 70% are NA:"
   ]
  },
  {
   "cell_type": "code",
   "execution_count": 276,
   "id": "268e001e",
   "metadata": {},
   "outputs": [
    {
     "data": {
      "text/plain": [
       "Alley          0.937671\n",
       "PoolQC         0.995205\n",
       "Fence          0.807534\n",
       "MiscFeature    0.963014\n",
       "dtype: float64"
      ]
     },
     "execution_count": 276,
     "metadata": {},
     "output_type": "execute_result"
    }
   ],
   "source": [
    "nul_cols = dtf[categorical_columns].isna().sum()/len(dtf)\n",
    "drop_us = nul_cols[nul_cols>0.7]\n",
    "drop_us"
   ]
  },
  {
   "cell_type": "code",
   "execution_count": 277,
   "id": "f35b8c99-a869-4fbb-969b-63167289c76a",
   "metadata": {},
   "outputs": [],
   "source": [
    "dtf=dtf.drop(drop_us.index,axis=1)\n",
    "categorical_columns = list(set(categorical_columns)-set(drop_us.index))"
   ]
  },
  {
   "cell_type": "markdown",
   "id": "54c0312d-60a1-4942-95ec-35d5e4b7f600",
   "metadata": {},
   "source": [
    "2. Fill with a new 'na' category:"
   ]
  },
  {
   "cell_type": "code",
   "execution_count": 278,
   "id": "3a1fd247-4770-4e06-94bc-3f9e3de8fdce",
   "metadata": {},
   "outputs": [],
   "source": [
    "dtf[categorical_columns].fillna('na',inplace=True)"
   ]
  },
  {
   "cell_type": "markdown",
   "id": "e68fce27",
   "metadata": {},
   "source": [
    "## 1. Two-Sample KS"
   ]
  },
  {
   "cell_type": "markdown",
   "id": "5554da86-ae9d-4b3a-aecf-f7e45c0759af",
   "metadata": {},
   "source": [
    "##### We can use KS too examine, e.g., whether the train and test come from the same distributions:"
   ]
  },
  {
   "cell_type": "code",
   "execution_count": 279,
   "id": "189a21b8-e679-429c-8aed-9731bb6ad9d0",
   "metadata": {},
   "outputs": [],
   "source": [
    "test_dataset_path = \"../datasets/houseprices/test.csv\"\n",
    "dtf_test = pd.read_csv(test_dataset_path,index_col='Id')"
   ]
  },
  {
   "cell_type": "code",
   "execution_count": 286,
   "id": "033b4290-9111-4809-9a70-a60c28a01c2b",
   "metadata": {},
   "outputs": [],
   "source": [
    "#filling null values using the train:\n",
    "for nc in na_columns.index:\n",
    "    dtf_test[nc].fillna(dtf[nc].mean(),inplace=True)"
   ]
  },
  {
   "cell_type": "code",
   "execution_count": 287,
   "id": "ab9943f9-a8e7-4c5a-9e3c-bceaf4dd939f",
   "metadata": {},
   "outputs": [],
   "source": [
    "from scipy.stats import ks_2samp"
   ]
  },
  {
   "cell_type": "code",
   "execution_count": 288,
   "id": "68a5af75-bd47-4d59-b6e5-30cf3c545cb6",
   "metadata": {},
   "outputs": [
    {
     "data": {
      "text/plain": [
       "KstestResult(statistic=0.04636972217788502, pvalue=0.08165723197507235)"
      ]
     },
     "execution_count": 288,
     "metadata": {},
     "output_type": "execute_result"
    }
   ],
   "source": [
    "ks_2samp(dtf.GrLivArea,dtf_test.GrLivArea)"
   ]
  },
  {
   "cell_type": "markdown",
   "id": "f5789a0b-d9e0-4ee8-91e0-7bc25fa0e404",
   "metadata": {},
   "source": [
    "##### Comparing all numeric test/train columns:"
   ]
  },
  {
   "cell_type": "code",
   "execution_count": 289,
   "id": "68341efa-65d6-42bb-a7f3-056cbee2638d",
   "metadata": {},
   "outputs": [],
   "source": [
    "ks_res=[]\n",
    "for col in very_numerical:\n",
    "    try:\n",
    "        res,pval = ks_2samp(dtf[col],dtf_test[col])\n",
    "        ks_res.append({'col':col,'ks_score':res,'p_val':pval})\n",
    "    except:\n",
    "        pass\n",
    "ks_df = pd.DataFrame(ks_res)"
   ]
  },
  {
   "cell_type": "code",
   "execution_count": 292,
   "id": "e96ed426-a382-4082-a5e5-c7551633f40d",
   "metadata": {},
   "outputs": [
    {
     "data": {
      "text/html": [
       "<div>\n",
       "<style scoped>\n",
       "    .dataframe tbody tr th:only-of-type {\n",
       "        vertical-align: middle;\n",
       "    }\n",
       "\n",
       "    .dataframe tbody tr th {\n",
       "        vertical-align: top;\n",
       "    }\n",
       "\n",
       "    .dataframe thead th {\n",
       "        text-align: right;\n",
       "    }\n",
       "</style>\n",
       "<table border=\"1\" class=\"dataframe\">\n",
       "  <thead>\n",
       "    <tr style=\"text-align: right;\">\n",
       "      <th></th>\n",
       "      <th>col</th>\n",
       "      <th>ks_score</th>\n",
       "      <th>p_val</th>\n",
       "    </tr>\n",
       "  </thead>\n",
       "  <tbody>\n",
       "    <tr>\n",
       "      <th>0</th>\n",
       "      <td>LotFrontage</td>\n",
       "      <td>0.185373</td>\n",
       "      <td>1.110223e-15</td>\n",
       "    </tr>\n",
       "    <tr>\n",
       "      <th>10</th>\n",
       "      <td>2ndFlrSF</td>\n",
       "      <td>0.047094</td>\n",
       "      <td>7.370757e-02</td>\n",
       "    </tr>\n",
       "    <tr>\n",
       "      <th>12</th>\n",
       "      <td>GrLivArea</td>\n",
       "      <td>0.046370</td>\n",
       "      <td>8.165723e-02</td>\n",
       "    </tr>\n",
       "    <tr>\n",
       "      <th>8</th>\n",
       "      <td>TotalBsmtSF</td>\n",
       "      <td>0.041186</td>\n",
       "      <td>1.628113e-01</td>\n",
       "    </tr>\n",
       "    <tr>\n",
       "      <th>1</th>\n",
       "      <td>LotArea</td>\n",
       "      <td>0.037240</td>\n",
       "      <td>2.559294e-01</td>\n",
       "    </tr>\n",
       "    <tr>\n",
       "      <th>3</th>\n",
       "      <td>YearRemodAdd</td>\n",
       "      <td>0.037196</td>\n",
       "      <td>2.576886e-01</td>\n",
       "    </tr>\n",
       "    <tr>\n",
       "      <th>7</th>\n",
       "      <td>BsmtUnfSF</td>\n",
       "      <td>0.029872</td>\n",
       "      <td>5.173430e-01</td>\n",
       "    </tr>\n",
       "    <tr>\n",
       "      <th>17</th>\n",
       "      <td>EnclosedPorch</td>\n",
       "      <td>0.029570</td>\n",
       "      <td>5.343483e-01</td>\n",
       "    </tr>\n",
       "    <tr>\n",
       "      <th>5</th>\n",
       "      <td>BsmtFinSF1</td>\n",
       "      <td>0.027048</td>\n",
       "      <td>6.447772e-01</td>\n",
       "    </tr>\n",
       "    <tr>\n",
       "      <th>13</th>\n",
       "      <td>GarageYrBlt</td>\n",
       "      <td>0.024837</td>\n",
       "      <td>7.459942e-01</td>\n",
       "    </tr>\n",
       "  </tbody>\n",
       "</table>\n",
       "</div>"
      ],
      "text/plain": [
       "              col  ks_score         p_val\n",
       "0     LotFrontage  0.185373  1.110223e-15\n",
       "10       2ndFlrSF  0.047094  7.370757e-02\n",
       "12      GrLivArea  0.046370  8.165723e-02\n",
       "8     TotalBsmtSF  0.041186  1.628113e-01\n",
       "1         LotArea  0.037240  2.559294e-01\n",
       "3    YearRemodAdd  0.037196  2.576886e-01\n",
       "7       BsmtUnfSF  0.029872  5.173430e-01\n",
       "17  EnclosedPorch  0.029570  5.343483e-01\n",
       "5      BsmtFinSF1  0.027048  6.447772e-01\n",
       "13    GarageYrBlt  0.024837  7.459942e-01"
      ]
     },
     "execution_count": 292,
     "metadata": {},
     "output_type": "execute_result"
    }
   ],
   "source": [
    "ks_df.sort_values('p_val')[:10]"
   ]
  },
  {
   "cell_type": "markdown",
   "id": "db458fb7-496b-4906-8201-cc6553901685",
   "metadata": {},
   "source": [
    "We can see one column that is slightly different. Let's examine:"
   ]
  },
  {
   "cell_type": "code",
   "execution_count": 293,
   "id": "ced37d43-c9db-4dac-8761-06569b501759",
   "metadata": {},
   "outputs": [
    {
     "data": {
      "text/plain": [
       "<AxesSubplot:xlabel='LotFrontage'>"
      ]
     },
     "execution_count": 293,
     "metadata": {},
     "output_type": "execute_result"
    },
    {
     "data": {
      "image/png": "[encoded data removed]",
      "text/plain": [
       "<Figure size 432x288 with 1 Axes>"
      ]
     },
     "metadata": {
      "needs_background": "light"
     },
     "output_type": "display_data"
    }
   ],
   "source": [
    "fig,ax = plt.subplots()\n",
    "sns.distplot(dtf.LotFrontage,ax=ax,bins=range(0,350,10),kde=False)\n",
    "sns.distplot(dtf_test.LotFrontage,ax=ax,bins=range(0,350,10),kde=False)\n"
   ]
  },
  {
   "cell_type": "markdown",
   "id": "633cbfa8-abe7-4ef6-9ceb-0d3b2a1876e1",
   "metadata": {},
   "source": [
    "Can't see major differences, trying a Box plot:"
   ]
  },
  {
   "cell_type": "code",
   "execution_count": 294,
   "id": "178ff1a7-0b00-4e4d-a6e6-00fdc2febfda",
   "metadata": {},
   "outputs": [
    {
     "data": {
      "text/plain": [
       "Text(0.5, 1.0, 'Test')"
      ]
     },
     "execution_count": 294,
     "metadata": {},
     "output_type": "execute_result"
    },
    {
     "data": {
      "image/png": "[encoded data removed]",
      "text/plain": [
       "<Figure size 720x288 with 2 Axes>"
      ]
     },
     "metadata": {
      "needs_background": "light"
     },
     "output_type": "display_data"
    }
   ],
   "source": [
    "fig,axes = plt.subplots(1,2,figsize=(10,4))\n",
    "sns.boxplot(dtf.LotFrontage,ax=axes[0]).set_title('Train')\n",
    "sns.boxplot(dtf_test.LotFrontage,ax=axes[1]).set_title('Test')"
   ]
  },
  {
   "cell_type": "markdown",
   "id": "92069f10-05eb-4d46-9c56-60d2443caecc",
   "metadata": {},
   "source": [
    "To make sure, let's comapre their statistics using `pd.Series.describe()`"
   ]
  },
  {
   "cell_type": "code",
   "execution_count": 295,
   "id": "588ec856-0810-4e03-9760-c52c2bff8d4c",
   "metadata": {},
   "outputs": [
    {
     "data": {
      "text/html": [
       "<div>\n",
       "<style scoped>\n",
       "    .dataframe tbody tr th:only-of-type {\n",
       "        vertical-align: middle;\n",
       "    }\n",
       "\n",
       "    .dataframe tbody tr th {\n",
       "        vertical-align: top;\n",
       "    }\n",
       "\n",
       "    .dataframe thead th {\n",
       "        text-align: right;\n",
       "    }\n",
       "</style>\n",
       "<table border=\"1\" class=\"dataframe\">\n",
       "  <thead>\n",
       "    <tr style=\"text-align: right;\">\n",
       "      <th></th>\n",
       "      <th>Train</th>\n",
       "      <th>Test</th>\n",
       "    </tr>\n",
       "  </thead>\n",
       "  <tbody>\n",
       "    <tr>\n",
       "      <th>count</th>\n",
       "      <td>1460.000000</td>\n",
       "      <td>1459.000000</td>\n",
       "    </tr>\n",
       "    <tr>\n",
       "      <th>mean</th>\n",
       "      <td>70.049958</td>\n",
       "      <td>68.809007</td>\n",
       "    </tr>\n",
       "    <tr>\n",
       "      <th>std</th>\n",
       "      <td>22.024023</td>\n",
       "      <td>20.568131</td>\n",
       "    </tr>\n",
       "    <tr>\n",
       "      <th>min</th>\n",
       "      <td>21.000000</td>\n",
       "      <td>21.000000</td>\n",
       "    </tr>\n",
       "    <tr>\n",
       "      <th>25%</th>\n",
       "      <td>60.000000</td>\n",
       "      <td>60.000000</td>\n",
       "    </tr>\n",
       "    <tr>\n",
       "      <th>50%</th>\n",
       "      <td>70.049958</td>\n",
       "      <td>70.049958</td>\n",
       "    </tr>\n",
       "    <tr>\n",
       "      <th>75%</th>\n",
       "      <td>79.000000</td>\n",
       "      <td>78.000000</td>\n",
       "    </tr>\n",
       "    <tr>\n",
       "      <th>max</th>\n",
       "      <td>313.000000</td>\n",
       "      <td>200.000000</td>\n",
       "    </tr>\n",
       "  </tbody>\n",
       "</table>\n",
       "</div>"
      ],
      "text/plain": [
       "             Train         Test\n",
       "count  1460.000000  1459.000000\n",
       "mean     70.049958    68.809007\n",
       "std      22.024023    20.568131\n",
       "min      21.000000    21.000000\n",
       "25%      60.000000    60.000000\n",
       "50%      70.049958    70.049958\n",
       "75%      79.000000    78.000000\n",
       "max     313.000000   200.000000"
      ]
     },
     "execution_count": 295,
     "metadata": {},
     "output_type": "execute_result"
    }
   ],
   "source": [
    "describe_df=pd.DataFrame([dtf.LotFrontage.describe(),dtf_test.LotFrontage.describe()]).T\n",
    "describe_df.columns=['Train','Test']\n",
    "describe_df"
   ]
  },
  {
   "cell_type": "markdown",
   "id": "1ebe3789-e86a-49d7-b72f-506a1ac78e11",
   "metadata": {
    "tags": []
   },
   "source": [
    "## 2. Independence Testing\n"
   ]
  },
  {
   "cell_type": "code",
   "execution_count": 296,
   "id": "022e7242-e79e-47d1-8b25-3dbefb8662ff",
   "metadata": {},
   "outputs": [],
   "source": [
    "from scipy.stats import chisquare"
   ]
  },
  {
   "cell_type": "markdown",
   "id": "79d5aa13-ffef-489e-a7b7-0621f9f997aa",
   "metadata": {},
   "source": [
    "##### To run a chi-square test we need to first create a contingency table and only then run the test:"
   ]
  },
  {
   "cell_type": "code",
   "execution_count": 297,
   "id": "83a90033-3a4f-4d4d-9be5-2ba42dcd6e1e",
   "metadata": {},
   "outputs": [
    {
     "data": {
      "text/html": [
       "<div>\n",
       "<style scoped>\n",
       "    .dataframe tbody tr th:only-of-type {\n",
       "        vertical-align: middle;\n",
       "    }\n",
       "\n",
       "    .dataframe tbody tr th {\n",
       "        vertical-align: top;\n",
       "    }\n",
       "\n",
       "    .dataframe thead th {\n",
       "        text-align: right;\n",
       "    }\n",
       "</style>\n",
       "<table border=\"1\" class=\"dataframe\">\n",
       "  <thead>\n",
       "    <tr style=\"text-align: right;\">\n",
       "      <th>LotShape</th>\n",
       "      <th>IR1</th>\n",
       "      <th>IR2</th>\n",
       "      <th>IR3</th>\n",
       "      <th>Reg</th>\n",
       "    </tr>\n",
       "    <tr>\n",
       "      <th>LotShape</th>\n",
       "      <th></th>\n",
       "      <th></th>\n",
       "      <th></th>\n",
       "      <th></th>\n",
       "    </tr>\n",
       "  </thead>\n",
       "  <tbody>\n",
       "    <tr>\n",
       "      <th>IR1</th>\n",
       "      <td>484</td>\n",
       "      <td>0</td>\n",
       "      <td>0</td>\n",
       "      <td>0</td>\n",
       "    </tr>\n",
       "    <tr>\n",
       "      <th>IR2</th>\n",
       "      <td>0</td>\n",
       "      <td>41</td>\n",
       "      <td>0</td>\n",
       "      <td>0</td>\n",
       "    </tr>\n",
       "    <tr>\n",
       "      <th>IR3</th>\n",
       "      <td>0</td>\n",
       "      <td>0</td>\n",
       "      <td>10</td>\n",
       "      <td>0</td>\n",
       "    </tr>\n",
       "    <tr>\n",
       "      <th>Reg</th>\n",
       "      <td>0</td>\n",
       "      <td>0</td>\n",
       "      <td>0</td>\n",
       "      <td>925</td>\n",
       "    </tr>\n",
       "  </tbody>\n",
       "</table>\n",
       "</div>"
      ],
      "text/plain": [
       "LotShape  IR1  IR2  IR3  Reg\n",
       "LotShape                    \n",
       "IR1       484    0    0    0\n",
       "IR2         0   41    0    0\n",
       "IR3         0    0   10    0\n",
       "Reg         0    0    0  925"
      ]
     },
     "execution_count": 297,
     "metadata": {},
     "output_type": "execute_result"
    }
   ],
   "source": [
    "contingency_table = pd.crosstab(dtf.LotShape,dtf.LotShape)\n",
    "contingency_table"
   ]
  },
  {
   "cell_type": "code",
   "execution_count": 298,
   "id": "d7332724-c576-47a6-bced-922c77a0d2a6",
   "metadata": {},
   "outputs": [
    {
     "data": {
      "text/plain": [
       "(4380.0, 0.0)"
      ]
     },
     "execution_count": 298,
     "metadata": {},
     "output_type": "execute_result"
    }
   ],
   "source": [
    "c, p, dof, expected = stats.chi2_contingency(contingency_table)\n",
    "c,p"
   ]
  },
  {
   "cell_type": "markdown",
   "id": "d9c8c3fa-6d75-4a5b-bfa3-afa6f673d43a",
   "metadata": {},
   "source": [
    "The test implies that the two column are *dependent*. We can examine the expected table:"
   ]
  },
  {
   "cell_type": "code",
   "execution_count": 194,
   "id": "81b77484-afc9-4e44-9703-969c0c597435",
   "metadata": {},
   "outputs": [
    {
     "data": {
      "text/html": [
       "<div>\n",
       "<style scoped>\n",
       "    .dataframe tbody tr th:only-of-type {\n",
       "        vertical-align: middle;\n",
       "    }\n",
       "\n",
       "    .dataframe tbody tr th {\n",
       "        vertical-align: top;\n",
       "    }\n",
       "\n",
       "    .dataframe thead th {\n",
       "        text-align: right;\n",
       "    }\n",
       "</style>\n",
       "<table border=\"1\" class=\"dataframe\">\n",
       "  <thead>\n",
       "    <tr style=\"text-align: right;\">\n",
       "      <th>LotShape</th>\n",
       "      <th>IR1</th>\n",
       "      <th>IR2</th>\n",
       "      <th>IR3</th>\n",
       "      <th>Reg</th>\n",
       "    </tr>\n",
       "    <tr>\n",
       "      <th>LotShape</th>\n",
       "      <th></th>\n",
       "      <th></th>\n",
       "      <th></th>\n",
       "      <th></th>\n",
       "    </tr>\n",
       "  </thead>\n",
       "  <tbody>\n",
       "    <tr>\n",
       "      <th>IR1</th>\n",
       "      <td>160.449315</td>\n",
       "      <td>13.591781</td>\n",
       "      <td>3.315068</td>\n",
       "      <td>306.643836</td>\n",
       "    </tr>\n",
       "    <tr>\n",
       "      <th>IR2</th>\n",
       "      <td>13.591781</td>\n",
       "      <td>1.151370</td>\n",
       "      <td>0.280822</td>\n",
       "      <td>25.976027</td>\n",
       "    </tr>\n",
       "    <tr>\n",
       "      <th>IR3</th>\n",
       "      <td>3.315068</td>\n",
       "      <td>0.280822</td>\n",
       "      <td>0.068493</td>\n",
       "      <td>6.335616</td>\n",
       "    </tr>\n",
       "    <tr>\n",
       "      <th>Reg</th>\n",
       "      <td>306.643836</td>\n",
       "      <td>25.976027</td>\n",
       "      <td>6.335616</td>\n",
       "      <td>586.044521</td>\n",
       "    </tr>\n",
       "  </tbody>\n",
       "</table>\n",
       "</div>"
      ],
      "text/plain": [
       "LotShape         IR1        IR2       IR3         Reg\n",
       "LotShape                                             \n",
       "IR1       160.449315  13.591781  3.315068  306.643836\n",
       "IR2        13.591781   1.151370  0.280822   25.976027\n",
       "IR3         3.315068   0.280822  0.068493    6.335616\n",
       "Reg       306.643836  25.976027  6.335616  586.044521"
      ]
     },
     "execution_count": 194,
     "metadata": {},
     "output_type": "execute_result"
    }
   ],
   "source": [
    "pd.DataFrame(expected,columns=contingency_table.columns,index=contingency_table.index)"
   ]
  },
  {
   "cell_type": "markdown",
   "id": "4d097830-c014-46f7-9f70-2bf046644fd1",
   "metadata": {},
   "source": [
    "##### Performing the chi-square test over all columns:"
   ]
  },
  {
   "cell_type": "code",
   "execution_count": 299,
   "id": "f9b95801-899a-48c7-90ae-af2c0fbaa27b",
   "metadata": {},
   "outputs": [],
   "source": [
    "chi_res=[]\n",
    "for i1,c1 in enumerate(categorical_columns):\n",
    "    for i2,c2 in enumerate(categorical_columns):\n",
    "        try:\n",
    "            contingency_table = pd.crosstab(dtf[c1],dtf[c2])\n",
    "            c, p,_,_ = stats.chi2_contingency(contingency_table)\n",
    "        except:\n",
    "            c=None\n",
    "            p=None\n",
    "        chi_res.append({'col1':c1,'col2':c2,'score':c,'p_val':p})\n"
   ]
  },
  {
   "cell_type": "code",
   "execution_count": 301,
   "id": "a866bef5-354f-4e92-bd41-9f8de3719b0e",
   "metadata": {},
   "outputs": [
    {
     "data": {
      "text/html": [
       "<div>\n",
       "<style scoped>\n",
       "    .dataframe tbody tr th:only-of-type {\n",
       "        vertical-align: middle;\n",
       "    }\n",
       "\n",
       "    .dataframe tbody tr th {\n",
       "        vertical-align: top;\n",
       "    }\n",
       "\n",
       "    .dataframe thead th {\n",
       "        text-align: right;\n",
       "    }\n",
       "</style>\n",
       "<table border=\"1\" class=\"dataframe\">\n",
       "  <thead>\n",
       "    <tr style=\"text-align: right;\">\n",
       "      <th></th>\n",
       "      <th>col1</th>\n",
       "      <th>col2</th>\n",
       "      <th>score</th>\n",
       "      <th>p_val</th>\n",
       "    </tr>\n",
       "  </thead>\n",
       "  <tbody>\n",
       "    <tr>\n",
       "      <th>0</th>\n",
       "      <td>Condition2</td>\n",
       "      <td>Condition2</td>\n",
       "      <td>10220.000000</td>\n",
       "      <td>0.000000e+00</td>\n",
       "    </tr>\n",
       "    <tr>\n",
       "      <th>1</th>\n",
       "      <td>Condition2</td>\n",
       "      <td>GarageQual</td>\n",
       "      <td>172.778223</td>\n",
       "      <td>8.534628e-23</td>\n",
       "    </tr>\n",
       "    <tr>\n",
       "      <th>2</th>\n",
       "      <td>Condition2</td>\n",
       "      <td>Electrical</td>\n",
       "      <td>1.990689</td>\n",
       "      <td>1.000000e+00</td>\n",
       "    </tr>\n",
       "    <tr>\n",
       "      <th>3</th>\n",
       "      <td>Condition2</td>\n",
       "      <td>KitchenQual</td>\n",
       "      <td>56.406384</td>\n",
       "      <td>4.397566e-05</td>\n",
       "    </tr>\n",
       "    <tr>\n",
       "      <th>4</th>\n",
       "      <td>Condition2</td>\n",
       "      <td>ExterCond</td>\n",
       "      <td>497.803442</td>\n",
       "      <td>1.908248e-87</td>\n",
       "    </tr>\n",
       "  </tbody>\n",
       "</table>\n",
       "</div>"
      ],
      "text/plain": [
       "         col1         col2         score         p_val\n",
       "0  Condition2   Condition2  10220.000000  0.000000e+00\n",
       "1  Condition2   GarageQual    172.778223  8.534628e-23\n",
       "2  Condition2   Electrical      1.990689  1.000000e+00\n",
       "3  Condition2  KitchenQual     56.406384  4.397566e-05\n",
       "4  Condition2    ExterCond    497.803442  1.908248e-87"
      ]
     },
     "execution_count": 301,
     "metadata": {},
     "output_type": "execute_result"
    }
   ],
   "source": [
    "chi_df= pd.DataFrame(chi_res)\n",
    "chi_df.head()"
   ]
  },
  {
   "cell_type": "markdown",
   "id": "7eb913bd-c37f-4f16-9f0c-7cd98aa78dd8",
   "metadata": {},
   "source": [
    "Examining the column-pairs with high P value (meaning, the columns may be dependent)"
   ]
  },
  {
   "cell_type": "code",
   "execution_count": 302,
   "id": "eb1e12dd-8b0b-4432-9e62-583f1f6e3b3e",
   "metadata": {},
   "outputs": [
    {
     "data": {
      "text/html": [
       "<div>\n",
       "<style scoped>\n",
       "    .dataframe tbody tr th:only-of-type {\n",
       "        vertical-align: middle;\n",
       "    }\n",
       "\n",
       "    .dataframe tbody tr th {\n",
       "        vertical-align: top;\n",
       "    }\n",
       "\n",
       "    .dataframe thead th {\n",
       "        text-align: right;\n",
       "    }\n",
       "</style>\n",
       "<table border=\"1\" class=\"dataframe\">\n",
       "  <thead>\n",
       "    <tr style=\"text-align: right;\">\n",
       "      <th></th>\n",
       "      <th>col1</th>\n",
       "      <th>col2</th>\n",
       "      <th>score</th>\n",
       "      <th>p_val</th>\n",
       "    </tr>\n",
       "  </thead>\n",
       "  <tbody>\n",
       "    <tr>\n",
       "      <th>20</th>\n",
       "      <td>Condition2</td>\n",
       "      <td>RoofMatl</td>\n",
       "      <td>0.274790</td>\n",
       "      <td>1.0</td>\n",
       "    </tr>\n",
       "    <tr>\n",
       "      <th>6</th>\n",
       "      <td>Condition2</td>\n",
       "      <td>Functional</td>\n",
       "      <td>1.114390</td>\n",
       "      <td>1.0</td>\n",
       "    </tr>\n",
       "    <tr>\n",
       "      <th>31</th>\n",
       "      <td>Condition2</td>\n",
       "      <td>Heating</td>\n",
       "      <td>0.339624</td>\n",
       "      <td>1.0</td>\n",
       "    </tr>\n",
       "    <tr>\n",
       "      <th>1209</th>\n",
       "      <td>Heating</td>\n",
       "      <td>Condition2</td>\n",
       "      <td>0.339624</td>\n",
       "      <td>1.0</td>\n",
       "    </tr>\n",
       "    <tr>\n",
       "      <th>234</th>\n",
       "      <td>Functional</td>\n",
       "      <td>Condition2</td>\n",
       "      <td>1.114390</td>\n",
       "      <td>1.0</td>\n",
       "    </tr>\n",
       "    <tr>\n",
       "      <th>780</th>\n",
       "      <td>RoofMatl</td>\n",
       "      <td>Condition2</td>\n",
       "      <td>0.274790</td>\n",
       "      <td>1.0</td>\n",
       "    </tr>\n",
       "    <tr>\n",
       "      <th>2</th>\n",
       "      <td>Condition2</td>\n",
       "      <td>Electrical</td>\n",
       "      <td>1.990689</td>\n",
       "      <td>1.0</td>\n",
       "    </tr>\n",
       "    <tr>\n",
       "      <th>78</th>\n",
       "      <td>Electrical</td>\n",
       "      <td>Condition2</td>\n",
       "      <td>1.990689</td>\n",
       "      <td>1.0</td>\n",
       "    </tr>\n",
       "    <tr>\n",
       "      <th>975</th>\n",
       "      <td>Utilities</td>\n",
       "      <td>Condition2</td>\n",
       "      <td>0.010388</td>\n",
       "      <td>1.0</td>\n",
       "    </tr>\n",
       "    <tr>\n",
       "      <th>25</th>\n",
       "      <td>Condition2</td>\n",
       "      <td>Utilities</td>\n",
       "      <td>0.010388</td>\n",
       "      <td>1.0</td>\n",
       "    </tr>\n",
       "  </tbody>\n",
       "</table>\n",
       "</div>"
      ],
      "text/plain": [
       "            col1        col2     score  p_val\n",
       "20    Condition2    RoofMatl  0.274790    1.0\n",
       "6     Condition2  Functional  1.114390    1.0\n",
       "31    Condition2     Heating  0.339624    1.0\n",
       "1209     Heating  Condition2  0.339624    1.0\n",
       "234   Functional  Condition2  1.114390    1.0\n",
       "780     RoofMatl  Condition2  0.274790    1.0\n",
       "2     Condition2  Electrical  1.990689    1.0\n",
       "78    Electrical  Condition2  1.990689    1.0\n",
       "975    Utilities  Condition2  0.010388    1.0\n",
       "25    Condition2   Utilities  0.010388    1.0"
      ]
     },
     "execution_count": 302,
     "metadata": {},
     "output_type": "execute_result"
    }
   ],
   "source": [
    "chi_df[chi_df.p_val>0.3].sort_values('p_val',ascending=False).head(10)"
   ]
  },
  {
   "cell_type": "code",
   "execution_count": 303,
   "id": "65eaaeed-a936-404a-9f8c-f2bde8f914c2",
   "metadata": {},
   "outputs": [],
   "source": [
    "col1 = 'Heating'\n",
    "col2 = 'Condition2'"
   ]
  },
  {
   "cell_type": "code",
   "execution_count": 304,
   "id": "7e985fcf-1fe3-4780-8318-6acd597bb9a6",
   "metadata": {},
   "outputs": [
    {
     "data": {
      "text/html": [
       "<div>\n",
       "<style scoped>\n",
       "    .dataframe tbody tr th:only-of-type {\n",
       "        vertical-align: middle;\n",
       "    }\n",
       "\n",
       "    .dataframe tbody tr th {\n",
       "        vertical-align: top;\n",
       "    }\n",
       "\n",
       "    .dataframe thead th {\n",
       "        text-align: right;\n",
       "    }\n",
       "</style>\n",
       "<table border=\"1\" class=\"dataframe\">\n",
       "  <thead>\n",
       "    <tr style=\"text-align: right;\">\n",
       "      <th>Condition2</th>\n",
       "      <th>Artery</th>\n",
       "      <th>Feedr</th>\n",
       "      <th>Norm</th>\n",
       "      <th>PosA</th>\n",
       "      <th>PosN</th>\n",
       "      <th>RRAe</th>\n",
       "      <th>RRAn</th>\n",
       "      <th>RRNn</th>\n",
       "    </tr>\n",
       "    <tr>\n",
       "      <th>Heating</th>\n",
       "      <th></th>\n",
       "      <th></th>\n",
       "      <th></th>\n",
       "      <th></th>\n",
       "      <th></th>\n",
       "      <th></th>\n",
       "      <th></th>\n",
       "      <th></th>\n",
       "    </tr>\n",
       "  </thead>\n",
       "  <tbody>\n",
       "    <tr>\n",
       "      <th>Floor</th>\n",
       "      <td>0</td>\n",
       "      <td>0</td>\n",
       "      <td>1</td>\n",
       "      <td>0</td>\n",
       "      <td>0</td>\n",
       "      <td>0</td>\n",
       "      <td>0</td>\n",
       "      <td>0</td>\n",
       "    </tr>\n",
       "    <tr>\n",
       "      <th>GasA</th>\n",
       "      <td>2</td>\n",
       "      <td>6</td>\n",
       "      <td>1413</td>\n",
       "      <td>1</td>\n",
       "      <td>2</td>\n",
       "      <td>1</td>\n",
       "      <td>1</td>\n",
       "      <td>2</td>\n",
       "    </tr>\n",
       "    <tr>\n",
       "      <th>GasW</th>\n",
       "      <td>0</td>\n",
       "      <td>0</td>\n",
       "      <td>18</td>\n",
       "      <td>0</td>\n",
       "      <td>0</td>\n",
       "      <td>0</td>\n",
       "      <td>0</td>\n",
       "      <td>0</td>\n",
       "    </tr>\n",
       "    <tr>\n",
       "      <th>Grav</th>\n",
       "      <td>0</td>\n",
       "      <td>0</td>\n",
       "      <td>7</td>\n",
       "      <td>0</td>\n",
       "      <td>0</td>\n",
       "      <td>0</td>\n",
       "      <td>0</td>\n",
       "      <td>0</td>\n",
       "    </tr>\n",
       "    <tr>\n",
       "      <th>OthW</th>\n",
       "      <td>0</td>\n",
       "      <td>0</td>\n",
       "      <td>2</td>\n",
       "      <td>0</td>\n",
       "      <td>0</td>\n",
       "      <td>0</td>\n",
       "      <td>0</td>\n",
       "      <td>0</td>\n",
       "    </tr>\n",
       "    <tr>\n",
       "      <th>Wall</th>\n",
       "      <td>0</td>\n",
       "      <td>0</td>\n",
       "      <td>4</td>\n",
       "      <td>0</td>\n",
       "      <td>0</td>\n",
       "      <td>0</td>\n",
       "      <td>0</td>\n",
       "      <td>0</td>\n",
       "    </tr>\n",
       "  </tbody>\n",
       "</table>\n",
       "</div>"
      ],
      "text/plain": [
       "Condition2  Artery  Feedr  Norm  PosA  PosN  RRAe  RRAn  RRNn\n",
       "Heating                                                      \n",
       "Floor            0      0     1     0     0     0     0     0\n",
       "GasA             2      6  1413     1     2     1     1     2\n",
       "GasW             0      0    18     0     0     0     0     0\n",
       "Grav             0      0     7     0     0     0     0     0\n",
       "OthW             0      0     2     0     0     0     0     0\n",
       "Wall             0      0     4     0     0     0     0     0"
      ]
     },
     "execution_count": 304,
     "metadata": {},
     "output_type": "execute_result"
    }
   ],
   "source": [
    "contingency_table = pd.crosstab(dtf[col1],dtf[col2])\n",
    "contingency_table"
   ]
  },
  {
   "cell_type": "code",
   "execution_count": 131,
   "id": "9dfda352-1793-42f8-946f-e00f31397d55",
   "metadata": {},
   "outputs": [
    {
     "data": {
      "text/plain": [
       "GasA     1428\n",
       "GasW       18\n",
       "Grav        7\n",
       "Wall        4\n",
       "OthW        2\n",
       "Floor       1\n",
       "Name: Heating, dtype: int64"
      ]
     },
     "execution_count": 131,
     "metadata": {},
     "output_type": "execute_result"
    }
   ],
   "source": [
    "dtf.Heating.value_counts()"
   ]
  },
  {
   "cell_type": "code",
   "execution_count": null,
   "id": "1d635aef-31f1-47f0-924f-bdac0f3fb248",
   "metadata": {},
   "outputs": [],
   "source": []
  },
  {
   "cell_type": "markdown",
   "id": "547bb65b-bfc6-4003-80ee-f0eab14b5d59",
   "metadata": {
    "tags": []
   },
   "source": [
    "#### Examining Correlations to the target feature:"
   ]
  },
  {
   "cell_type": "markdown",
   "id": "6f2d81de-ac44-4cde-a13d-806d2b25ed44",
   "metadata": {},
   "source": [
    "Starting with Pearson:"
   ]
  },
  {
   "cell_type": "code",
   "execution_count": 201,
   "id": "b12b3c27-4479-45a3-8426-04da0c37759b",
   "metadata": {},
   "outputs": [
    {
     "data": {
      "text/plain": [
       "<AxesSubplot:>"
      ]
     },
     "execution_count": 201,
     "metadata": {},
     "output_type": "execute_result"
    },
    {
     "data": {
      "image/png": "[encoded data removed]",
      "text/plain": [
       "<Figure size 1080x144 with 2 Axes>"
      ]
     },
     "metadata": {
      "needs_background": "light"
     },
     "output_type": "display_data"
    }
   ],
   "source": [
    "dtf_corr = dtf[very_numerical].corr(method=\"pearson\").loc[[\"SalePrice\"]]\n",
    "fig, ax = plt.subplots(figsize=(15,2))\n",
    "sns.heatmap(dtf_corr, annot=True, fmt='.2f', cmap=\"YlGnBu\", cbar=True, linewidths=0.5,ax=ax)\n"
   ]
  },
  {
   "cell_type": "markdown",
   "id": "f7bab107-d61d-4fc0-acd4-8e89c0e5169d",
   "metadata": {},
   "source": [
    "Also trying Spearman"
   ]
  },
  {
   "cell_type": "code",
   "execution_count": 305,
   "id": "3c82feba-7a98-4737-9d6e-be4ddf772925",
   "metadata": {},
   "outputs": [
    {
     "data": {
      "text/plain": [
       "<AxesSubplot:>"
      ]
     },
     "execution_count": 305,
     "metadata": {},
     "output_type": "execute_result"
    },
    {
     "data": {
      "image/png": "[encoded data removed]",
      "text/plain": [
       "<Figure size 1080x144 with 2 Axes>"
      ]
     },
     "metadata": {
      "needs_background": "light"
     },
     "output_type": "display_data"
    }
   ],
   "source": [
    "dtf_corr = dtf[very_numerical].corr(method=\"spearman\").loc[[\"SalePrice\"]]\n",
    "fig, ax = plt.subplots(figsize=(15,2))\n",
    "sns.heatmap(dtf_corr, annot=True, fmt='.2f', cmap=\"YlGnBu\", cbar=True, linewidths=0.5,ax=ax)\n"
   ]
  },
  {
   "cell_type": "markdown",
   "id": "a81cfd4a-2161-4763-8497-9575a16b63ad",
   "metadata": {},
   "source": [
    "Spearman should work better for ordinal features (e.g., rankings) "
   ]
  },
  {
   "cell_type": "code",
   "execution_count": 306,
   "id": "152d6f50-dfb1-485a-8618-6bdb759982d4",
   "metadata": {},
   "outputs": [],
   "source": [
    "ordinals = list(set(numeric_columns) - set(very_numerical))"
   ]
  },
  {
   "cell_type": "code",
   "execution_count": 307,
   "id": "fa8d680a-2c04-466a-97be-ccf0e033ecb6",
   "metadata": {},
   "outputs": [],
   "source": [
    "ordinals.append('SalePrice')"
   ]
  },
  {
   "cell_type": "code",
   "execution_count": 310,
   "id": "3c367e5f-a10e-4ba1-ab18-30e00bd71e78",
   "metadata": {},
   "outputs": [
    {
     "data": {
      "text/plain": [
       "<AxesSubplot:>"
      ]
     },
     "execution_count": 310,
     "metadata": {},
     "output_type": "execute_result"
    },
    {
     "data": {
      "image/png": "[encoded data removed]",
      "text/plain": [
       "<Figure size 1080x144 with 2 Axes>"
      ]
     },
     "metadata": {
      "needs_background": "light"
     },
     "output_type": "display_data"
    }
   ],
   "source": [
    "dtf_corr = dtf[ordinals].corr(method=\"spearman\").loc[[\"SalePrice\"]]\n",
    "dtf_corr= dtf_corr.append(dtf[ordinals].corr(method=\"pearson\").loc[[\"SalePrice\"]])\n",
    "fig, ax = plt.subplots(figsize=(15,2))\n",
    "sns.heatmap(dtf_corr, annot=True, fmt='.2f', cmap=\"YlGnBu\", cbar=True, linewidths=0.5,ax=ax)\n"
   ]
  },
  {
   "cell_type": "markdown",
   "id": "c455ab1f-ab1c-4b2b-9f86-99fa3d555e05",
   "metadata": {},
   "source": [
    "As SalePrice is numeric, we can bin it to become ordinal:"
   ]
  },
  {
   "cell_type": "code",
   "execution_count": 311,
   "id": "fd90fd64-6866-4975-b8fa-d1c3a691b94b",
   "metadata": {},
   "outputs": [
    {
     "data": {
      "text/plain": [
       "Id\n",
       "1    (178920.0, 250930.0]\n",
       "2    (178920.0, 250930.0]\n",
       "3    (178920.0, 250930.0]\n",
       "4    (106910.0, 178920.0]\n",
       "5    (178920.0, 250930.0]\n",
       "Name: SalePrice, dtype: category\n",
       "Categories (10, interval[float64]): [(34179.9, 106910.0] < (106910.0, 178920.0] < (178920.0, 250930.0] < (250930.0, 322940.0] ... (466960.0, 538970.0] < (538970.0, 610980.0] < (610980.0, 682990.0] < (682990.0, 755000.0]]"
      ]
     },
     "execution_count": 311,
     "metadata": {},
     "output_type": "execute_result"
    }
   ],
   "source": [
    "binned_price = pd.cut(dtf.SalePrice,10)\n",
    "#binned_price = pd.qcut(dtf.SalePrice,10) #we could use equi-height binning as well\n",
    "binned_price.head()"
   ]
  },
  {
   "cell_type": "code",
   "execution_count": 312,
   "id": "1f89d092-6b54-48e4-9287-cee182c81652",
   "metadata": {},
   "outputs": [],
   "source": [
    "binned_price = binned_price.cat.codes"
   ]
  },
  {
   "cell_type": "code",
   "execution_count": 314,
   "id": "2b0d89ae-ba83-4da6-b5e0-156393b8b61d",
   "metadata": {},
   "outputs": [],
   "source": [
    "dtf_ordinal=dtf[ordinals]\n",
    "dtf_ordinal[\"SalePrice\"]=binned_price"
   ]
  },
  {
   "cell_type": "markdown",
   "id": "fda780cd-ed7d-445b-9658-206c91f6862f",
   "metadata": {},
   "source": [
    "See whether the correlation changed:"
   ]
  },
  {
   "cell_type": "code",
   "execution_count": 315,
   "id": "ebce6e2d-eb29-4ec0-8590-62b1e4fceab0",
   "metadata": {},
   "outputs": [
    {
     "data": {
      "text/plain": [
       "<AxesSubplot:>"
      ]
     },
     "execution_count": 315,
     "metadata": {},
     "output_type": "execute_result"
    },
    {
     "data": {
      "image/png": "[encoded data removed]",
      "text/plain": [
       "<Figure size 1080x144 with 2 Axes>"
      ]
     },
     "metadata": {
      "needs_background": "light"
     },
     "output_type": "display_data"
    }
   ],
   "source": [
    "#dtf_corr = dtf_ordinal.corr(method=\"spearman\").loc[[\"SalePrice\"]]\n",
    "dtf_corr = dtf_corr.append(dtf_ordinal.corr(method=\"spearman\").loc[[\"SalePrice\"]])\n",
    "dtf_corr= dtf_corr.append(dtf_ordinal.corr(method=\"pearson\").loc[[\"SalePrice\"]])\n",
    "fig, ax = plt.subplots(figsize=(15,2))\n",
    "sns.heatmap(dtf_corr, annot=True, fmt='.2f', cmap=\"YlGnBu\", cbar=True, linewidths=0.5,ax=ax)\n"
   ]
  },
  {
   "cell_type": "markdown",
   "id": "2589e26e-7696-4906-a599-a6e85892e1d0",
   "metadata": {},
   "source": [
    "##### Last, let's examine cross-feature correlations:"
   ]
  },
  {
   "cell_type": "code",
   "execution_count": 316,
   "id": "09035d9c-0710-4bc8-a486-433a9cc3055c",
   "metadata": {},
   "outputs": [],
   "source": [
    "dtf_corr = dtf[ordinals].corr(method=\"spearman\")"
   ]
  },
  {
   "cell_type": "code",
   "execution_count": 317,
   "id": "b2e15801-03d1-44fb-b412-9a54a565a8eb",
   "metadata": {},
   "outputs": [
    {
     "data": {
      "text/plain": [
       "<AxesSubplot:>"
      ]
     },
     "execution_count": 317,
     "metadata": {},
     "output_type": "execute_result"
    },
    {
     "data": {
      "image/png": "[encoded data removed]",
      "text/plain": [
       "<Figure size 432x288 with 2 Axes>"
      ]
     },
     "metadata": {
      "needs_background": "light"
     },
     "output_type": "display_data"
    }
   ],
   "source": [
    "dtf_corr\n",
    "sns.heatmap(dtf_corr, annot=False, fmt='.2f', cmap=\"YlGnBu\", cbar=True, linewidths=0.5)\n"
   ]
  },
  {
   "cell_type": "code",
   "execution_count": null,
   "id": "d42ca1ae-dda8-4868-949d-6225dbd74564",
   "metadata": {},
   "outputs": [],
   "source": []
  }
 ],
 "metadata": {
  "kernelspec": {
   "display_name": "dsworkshop",
   "language": "python",
   "name": "dsworkshop"
  },
  "language_info": {
   "codemirror_mode": {
    "name": "ipython",
    "version": 3
   },
   "file_extension": ".py",
   "mimetype": "text/x-python",
   "name": "python",
   "nbconvert_exporter": "python",
   "pygments_lexer": "ipython3",
   "version": "3.7.6"
  }
 },
 "nbformat": 4,
 "nbformat_minor": 5
}
